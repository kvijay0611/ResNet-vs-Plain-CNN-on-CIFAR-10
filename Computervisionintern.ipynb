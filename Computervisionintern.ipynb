{
  "nbformat": 4,
  "nbformat_minor": 0,
  "metadata": {
    "colab": {
      "provenance": [],
      "gpuType": "T4",
      "mount_file_id": "18zC4FKYo37mRFBAuYAfvEmnBbWp3ZoQ-",
      "authorship_tag": "ABX9TyP2LjlsUtJjyQmGCSiGnymo",
      "include_colab_link": true
    },
    "kernelspec": {
      "name": "python3",
      "display_name": "Python 3"
    },
    "language_info": {
      "name": "python"
    },
    "accelerator": "GPU"
  },
  "cells": [
    {
      "cell_type": "markdown",
      "metadata": {
        "id": "view-in-github",
        "colab_type": "text"
      },
      "source": [
        "<a href=\"https://colab.research.google.com/github/kvijay0611/ResNet-vs-Plain-CNN-on-CIFAR-10/blob/main/Computervisionintern.ipynb\" target=\"_parent\"><img src=\"https://colab.research.google.com/assets/colab-badge.svg\" alt=\"Open In Colab\"/></a>"
      ]
    },
    {
      "cell_type": "markdown",
      "source": [
        "### ResNet vs PlainNet on CIFAR-10\n",
        " implement ResNet (with residual/skip connections) and PlainNet (same-depth, no skip)\n",
        "Train both on CIFAR-10, log metrics, plot training curves, and run small extensions."
      ],
      "metadata": {
        "id": "jUp8S19qSAX0"
      }
    },
    {
      "cell_type": "code",
      "execution_count": null,
      "metadata": {
        "id": "eTlys5K4Rzn9"
      },
      "outputs": [],
      "source": [
        "!pip install -q torch torchvision matplotlib scikit-learn tqdm"
      ]
    },
    {
      "cell_type": "code",
      "source": [
        "import os\n",
        "import time\n",
        "import copy\n",
        "import random\n",
        "from pathlib import Path"
      ],
      "metadata": {
        "id": "5G2cCcZVR70f"
      },
      "execution_count": null,
      "outputs": []
    },
    {
      "cell_type": "code",
      "source": [
        "import numpy as np\n",
        "import matplotlib.pyplot as plt\n",
        "from tqdm import tqdm"
      ],
      "metadata": {
        "id": "rX5LLrUWUTdj"
      },
      "execution_count": null,
      "outputs": []
    },
    {
      "cell_type": "code",
      "source": [
        "import torch\n",
        "import torch.nn as nn\n",
        "import torch.optim as optim\n",
        "from torch.utils.data import DataLoader, random_split\n",
        "import torchvision\n",
        "import torchvision.transforms as transforms"
      ],
      "metadata": {
        "id": "cMKwaigMUVqD"
      },
      "execution_count": null,
      "outputs": []
    },
    {
      "cell_type": "code",
      "source": [
        "from sklearn.manifold import TSNE\n",
        "from sklearn.metrics import confusion_matrix, accuracy_score"
      ],
      "metadata": {
        "id": "iHD6Kg9BUh87"
      },
      "execution_count": null,
      "outputs": []
    },
    {
      "cell_type": "code",
      "source": [
        "def seed_everything(seed=42):\n",
        "    random.seed(seed)\n",
        "    np.random.seed(seed)\n",
        "    torch.manual_seed(seed)\n",
        "    torch.cuda.manual_seed_all(seed)"
      ],
      "metadata": {
        "id": "DLOCCKRcUoZT"
      },
      "execution_count": null,
      "outputs": []
    },
    {
      "cell_type": "code",
      "source": [
        "seed_everything(42)\n",
        "\n",
        "\n",
        "device = torch.device('cuda' if torch.cuda.is_available() else 'cpu')\n",
        "print('Device:', device)"
      ],
      "metadata": {
        "colab": {
          "base_uri": "https://localhost:8080/"
        },
        "id": "ArLiIsxKUs0C",
        "outputId": "bb5a4386-b3db-42ca-dc02-6d1b37ab906e"
      },
      "execution_count": null,
      "outputs": [
        {
          "output_type": "stream",
          "name": "stdout",
          "text": [
            "Device: cuda\n"
          ]
        }
      ]
    },
    {
      "cell_type": "code",
      "source": [
        "CONFIG = {\n",
        "'batch_size': 128,\n",
        "'epochs': 69,\n",
        "'lr': 0.1,\n",
        "'momentum': 0.9,\n",
        "'weight_decay': 5e-4,\n",
        "'seed': 42,\n",
        "'num_workers': 2,\n",
        "'save_dir': './results',\n",
        "}"
      ],
      "metadata": {
        "id": "1BLzy3ERU56m"
      },
      "execution_count": null,
      "outputs": []
    },
    {
      "cell_type": "code",
      "source": [
        "os.makedirs(CONFIG['save_dir'], exist_ok=True)"
      ],
      "metadata": {
        "id": "anLsWBK0VMUP"
      },
      "execution_count": null,
      "outputs": []
    },
    {
      "cell_type": "code",
      "source": [
        "mean = (0.4914, 0.4822, 0.4465)\n",
        "std = (0.2470, 0.2435, 0.2616)\n",
        "\n",
        "\n",
        "transform_train = transforms.Compose([\n",
        "transforms.RandomCrop(32, padding=4),\n",
        "transforms.RandomHorizontalFlip(),\n",
        "transforms.ToTensor(),\n",
        "transforms.Normalize(mean, std),\n",
        "])\n",
        "transform_test = transforms.Compose([\n",
        "transforms.ToTensor(),\n",
        "transforms.Normalize(mean, std),\n",
        "])"
      ],
      "metadata": {
        "id": "Eln7GC7NVPFr"
      },
      "execution_count": null,
      "outputs": []
    },
    {
      "cell_type": "code",
      "source": [
        "root = './data'\n",
        "trainset = torchvision.datasets.CIFAR10(root=root, train=True, download=True, transform=transform_train)\n",
        "testset = torchvision.datasets.CIFAR10(root=root, train=False, download=True, transform=transform_test)"
      ],
      "metadata": {
        "colab": {
          "base_uri": "https://localhost:8080/"
        },
        "id": "6yL-RgSmVSJR",
        "outputId": "e01ac632-96dc-449d-8856-2382d1b2b5d4"
      },
      "execution_count": null,
      "outputs": [
        {
          "output_type": "stream",
          "name": "stderr",
          "text": [
            "100%|██████████| 170M/170M [00:07<00:00, 24.3MB/s]\n"
          ]
        }
      ]
    },
    {
      "cell_type": "code",
      "source": [
        "val_frac = 0.1\n",
        "n_train = len(trainset)\n",
        "n_val = int(val_frac * n_train)\n",
        "train_ds, val_ds = random_split(trainset, [n_train - n_val, n_val])\n",
        "\n",
        "\n",
        "train_loader = DataLoader(train_ds, batch_size=CONFIG['batch_size'], shuffle=True, num_workers=CONFIG['num_workers'])\n",
        "val_loader = DataLoader(val_ds, batch_size=CONFIG['batch_size'], shuffle=False, num_workers=CONFIG['num_workers'])\n",
        "test_loader = DataLoader(testset, batch_size=CONFIG['batch_size'], shuffle=False, num_workers=CONFIG['num_workers'])\n",
        "\n",
        "\n",
        "print('Train size:', len(train_ds), 'Val size:', len(val_ds), 'Test size:', len(testset))"
      ],
      "metadata": {
        "colab": {
          "base_uri": "https://localhost:8080/"
        },
        "id": "KwF-wbW9VYZO",
        "outputId": "1c8e4428-b697-4d9f-e2c6-4638c8e9268b"
      },
      "execution_count": null,
      "outputs": [
        {
          "output_type": "stream",
          "name": "stdout",
          "text": [
            "Train size: 45000 Val size: 5000 Test size: 10000\n"
          ]
        }
      ]
    },
    {
      "cell_type": "markdown",
      "source": [
        "# Models: ResNet-style BasicBlock + ResNet for CIFAR and PlainBlock/PlainNet variant"
      ],
      "metadata": {
        "id": "_8JhXQ-_WCY0"
      }
    },
    {
      "cell_type": "code",
      "source": [
        "def conv3x3(in_planes, out_planes, stride=1):\n",
        "    \"\"\"3x3 convolution with padding\"\"\"\n",
        "    return nn.Conv2d(in_planes, out_planes, kernel_size=3, stride=stride, padding=1, bias=False)\n",
        "\n",
        "\n",
        "class BasicBlock(nn.Module):\n",
        "    expansion = 1\n",
        "\n",
        "    def __init__(self, in_planes, planes, stride=1, downsample=None, use_skip=True):\n",
        "        super(BasicBlock, self).__init__()\n",
        "        self.conv1 = conv3x3(in_planes, planes, stride)\n",
        "        self.bn1 = nn.BatchNorm2d(planes)\n",
        "        self.relu = nn.ReLU(inplace=True)\n",
        "        self.conv2 = conv3x3(planes, planes)\n",
        "        self.bn2 = nn.BatchNorm2d(planes)\n",
        "        self.downsample = downsample\n",
        "        self.stride = stride\n",
        "        self.use_skip = use_skip\n",
        "\n",
        "    def forward(self, x):\n",
        "        residual = x\n",
        "\n",
        "        out = self.conv1(x)\n",
        "        out = self.bn1(out)\n",
        "        out = self.relu(out)\n",
        "\n",
        "        out = self.conv2(out)\n",
        "        out = self.bn2(out)\n",
        "\n",
        "        if self.downsample is not None:\n",
        "            residual = self.downsample(x)\n",
        "\n",
        "        if self.use_skip:\n",
        "            out += residual\n",
        "        out = self.relu(out)\n",
        "\n",
        "        return out\n",
        "\n",
        "\n",
        "class ResNet(nn.Module):\n",
        "\n",
        "    def __init__(self, block, layers, num_classes=10, use_skip=True):\n",
        "        self.in_planes = 64\n",
        "        super(ResNet, self).__init__()\n",
        "        self.conv1 = nn.Conv2d(3, 64, kernel_size=3, stride=1, padding=1, bias=False)\n",
        "        self.bn1 = nn.BatchNorm2d(64)\n",
        "        self.relu = nn.ReLU(inplace=True)\n",
        "        self.use_skip = use_skip\n",
        "\n",
        "        self.layer1 = self._make_layer(block, 64, layers[0], use_skip=use_skip)\n",
        "        self.layer2 = self._make_layer(block, 128, layers[1], stride=2, use_skip=use_skip)\n",
        "        self.layer3 = self._make_layer(block, 256, layers[2], stride=2, use_skip=use_skip)\n",
        "        self.avgpool = nn.AvgPool2d(8)\n",
        "        self.fc = nn.Linear(256 * block.expansion, num_classes)\n",
        "\n",
        "\n",
        "        for m in self.modules():\n",
        "            if isinstance(m, nn.Conv2d):\n",
        "                nn.init.kaiming_normal_(m.weight, mode='fan_out', nonlinearity='relu')\n",
        "            elif isinstance(m, nn.BatchNorm2d):\n",
        "                nn.init.constant_(m.weight, 1)\n",
        "                nn.init.constant_(m.bias, 0)\n",
        "\n",
        "    def _make_layer(self, block, planes, blocks, stride=1, use_skip=True):\n",
        "        downsample = None\n",
        "        if stride != 1 or self.in_planes != planes * block.expansion:\n",
        "            downsample = nn.Sequential(\n",
        "                nn.Conv2d(self.in_planes, planes * block.expansion, kernel_size=1, stride=stride, bias=False),\n",
        "                nn.BatchNorm2d(planes * block.expansion),\n",
        "            )\n",
        "\n",
        "        layers = []\n",
        "        layers.append(block(self.in_planes, planes, stride, downsample, use_skip=use_skip))\n",
        "        self.in_planes = planes * block.expansion\n",
        "        for _ in range(1, blocks):\n",
        "            layers.append(block(self.in_planes, planes, use_skip=use_skip))\n",
        "\n",
        "        return nn.Sequential(*layers)\n",
        "\n",
        "    def forward(self, x, return_features=False):\n",
        "        x = self.conv1(x)\n",
        "        x = self.bn1(x)\n",
        "        x = self.relu(x)\n",
        "\n",
        "        x = self.layer1(x)\n",
        "        x = self.layer2(x)\n",
        "        x = self.layer3(x)\n",
        "\n",
        "        x = self.avgpool(x)\n",
        "        feats = torch.flatten(x, 1)\n",
        "        out = self.fc(feats)\n",
        "        if return_features:\n",
        "            return out, feats\n",
        "        return out"
      ],
      "metadata": {
        "id": "6fEpaYV9V6qE"
      },
      "execution_count": null,
      "outputs": []
    },
    {
      "cell_type": "code",
      "source": [
        "def resnet20(num_classes=10):\n",
        "    return ResNet(BasicBlock, [3, 3, 3], num_classes=num_classes, use_skip=True)\n",
        "\n",
        "\n",
        "def plain20(num_classes=10):\n",
        "    # same architecture but without skip connections\n",
        "    return ResNet(BasicBlock, [3, 3, 3], num_classes=num_classes, use_skip=False)"
      ],
      "metadata": {
        "id": "vaDQrx34WHto"
      },
      "execution_count": null,
      "outputs": []
    },
    {
      "cell_type": "code",
      "source": [
        "def count_parameters(model):\n",
        "    return sum(p.numel() for p in model.parameters() if p.requires_grad)\n",
        "\n",
        "\n",
        "# Quick smoke-test: instantiate and print params\n",
        "model_res = resnet20().to(device)\n",
        "model_plain = plain20().to(device)\n",
        "print('ResNet params:', count_parameters(model_res))\n",
        "print('PlainNet params:', count_parameters(model_plain))"
      ],
      "metadata": {
        "colab": {
          "base_uri": "https://localhost:8080/"
        },
        "id": "ywGGyijaWoBD",
        "outputId": "6f0edac8-aad8-42f9-e1e8-a01d2ddc435d"
      },
      "execution_count": null,
      "outputs": [
        {
          "output_type": "stream",
          "name": "stdout",
          "text": [
            "ResNet params: 4327754\n",
            "PlainNet params: 4327754\n"
          ]
        }
      ]
    },
    {
      "cell_type": "markdown",
      "source": [
        "# Training & evaluation helpers"
      ],
      "metadata": {
        "id": "pnmg5wvMXCoq"
      }
    },
    {
      "cell_type": "code",
      "source": [
        "def train_one_epoch(model, dataloader, criterion, optimizer, device):\n",
        "    model.train()\n",
        "    running_loss = 0.0\n",
        "    correct = 0\n",
        "    total = 0\n",
        "    # Iterate over the data in batches\n",
        "    for inputs, targets in tqdm(dataloader, desc='Train', leave=False):\n",
        "\n",
        "        inputs = inputs.to(device)\n",
        "        targets = targets.to(device)\n",
        "\n",
        "        # Forward pass: compute the model output\n",
        "        outputs = model(inputs)\n",
        "\n",
        "        loss = criterion(outputs, targets)\n",
        "\n",
        "        # Backward pass and optimization\n",
        "        optimizer.zero_grad()\n",
        "        loss.backward()\n",
        "        optimizer.step()\n",
        "\n",
        "        # Accumulate loss and calculate accuracy\n",
        "        running_loss += loss.item() * inputs.size(0)\n",
        "        _, preds = outputs.max(1)\n",
        "        correct += preds.eq(targets).sum().item()\n",
        "        total += targets.size(0)\n",
        "\n",
        "    # Calculate average loss and accuracy for the epoch\n",
        "    epoch_loss = running_loss / total\n",
        "    epoch_acc = correct / total\n",
        "    return epoch_loss, epoch_acc\n",
        "\n",
        "\n",
        "def validate(model, dataloader, criterion, device):\n",
        "    model.eval()\n",
        "    running_loss = 0.0\n",
        "    correct = 0\n",
        "    total = 0\n",
        "    with torch.no_grad():\n",
        "\n",
        "        for inputs, targets in tqdm(dataloader, desc='Val/Test', leave=False):\n",
        "\n",
        "            inputs = inputs.to(device)\n",
        "            targets = targets.to(device)\n",
        "\n",
        "            # Forward pass: compute the model output\n",
        "            outputs = model(inputs)\n",
        "            # Compute the loss\n",
        "            loss = criterion(outputs, targets)\n",
        "\n",
        "            # Accumulate loss and calculate accuracy\n",
        "            running_loss += loss.item() * inputs.size(0)\n",
        "            _, preds = outputs.max(1)\n",
        "            correct += preds.eq(targets).sum().item()\n",
        "            total += targets.size(0)\n",
        "\n",
        "    # Calculate average loss and accuracy for the dataset\n",
        "    epoch_loss = running_loss / total\n",
        "    epoch_acc = correct / total\n",
        "    return epoch_loss, epoch_acc"
      ],
      "metadata": {
        "id": "E4eu_cQpWsgT"
      },
      "execution_count": null,
      "outputs": []
    },
    {
      "cell_type": "code",
      "source": [
        "def plot_history(histories, labels, out_path=None):\n",
        "    # histories: list of history dicts\n",
        "    plt.figure(figsize=(12, 5))\n",
        "\n",
        "    # Accuracy plot\n",
        "    plt.subplot(1, 2, 1)\n",
        "    for h, lab in zip(histories, labels):\n",
        "        plt.plot(h['train_acc'], linestyle='--', label=f'{lab} train')\n",
        "        plt.plot(h['val_acc'], linestyle='-', label=f'{lab} val')\n",
        "    plt.title('Accuracy (train dashed, val solid)')\n",
        "    plt.xlabel('Epoch')\n",
        "    plt.ylabel('Accuracy')\n",
        "    plt.legend()\n",
        "\n",
        "    # Loss plot\n",
        "    plt.subplot(1, 2, 2)\n",
        "    for h, lab in zip(histories, labels):\n",
        "        plt.plot(h['train_loss'], linestyle='--', label=f'{lab} train')\n",
        "        plt.plot(h['val_loss'], linestyle='-', label=f'{lab} val')\n",
        "    plt.title('Loss (train dashed, val solid)')\n",
        "    plt.xlabel('Epoch')\n",
        "    plt.ylabel('Loss')\n",
        "    plt.legend()\n",
        "\n",
        "\n",
        "    plt.tight_layout()\n",
        "    if out_path:\n",
        "        plt.savefig(out_path, dpi=150)\n",
        "    plt.show()"
      ],
      "metadata": {
        "id": "q3j2P5_0XXw1"
      },
      "execution_count": null,
      "outputs": []
    },
    {
      "cell_type": "markdown",
      "source": [
        "# Feature extraction & t-SNE helper"
      ],
      "metadata": {
        "id": "rznOFYdGXlVW"
      }
    },
    {
      "cell_type": "code",
      "source": [
        "def extract_features(model, dataloader, device, max_samples=2000):\n",
        "    model.eval()\n",
        "    feats = []\n",
        "    labels = []\n",
        "    with torch.no_grad():\n",
        "        for inputs, targets in dataloader:\n",
        "            inputs = inputs.to(device)\n",
        "            outputs, f = model(inputs, return_features=True)\n",
        "            feats.append(f.cpu().numpy())\n",
        "            labels.append(targets.numpy())\n",
        "            if sum(len(x) for x in feats) >= max_samples:\n",
        "                break\n",
        "    feats = np.concatenate(feats, axis=0)[:max_samples]\n",
        "    labels = np.concatenate(labels, axis=0)[:max_samples]\n",
        "    return feats, labels"
      ],
      "metadata": {
        "id": "QKL-LNErXhMo"
      },
      "execution_count": null,
      "outputs": []
    },
    {
      "cell_type": "markdown",
      "source": [
        "# Confusion matrix & test evaluation"
      ],
      "metadata": {
        "id": "CMsRnRFKX7Ey"
      }
    },
    {
      "cell_type": "code",
      "source": [
        "def evaluate_test_and_confusion(model, test_loader, device, class_names=None):\n",
        "    model.eval()\n",
        "    preds = []\n",
        "    trues = []\n",
        "    with torch.no_grad():\n",
        "        for inputs, targets in tqdm(test_loader, desc='Test', leave=False):\n",
        "            inputs = inputs.to(device)\n",
        "            outputs = model(inputs)\n",
        "            _, p = outputs.max(1)\n",
        "            preds.append(p.cpu().numpy())\n",
        "            trues.append(targets.numpy())\n",
        "    preds = np.concatenate(preds)\n",
        "    trues = np.concatenate(trues)\n",
        "    acc = (preds == trues).mean()\n",
        "    cm = confusion_matrix(trues, preds)\n",
        "    return acc, cm"
      ],
      "metadata": {
        "id": "jkxgkeQHX4Xj"
      },
      "execution_count": null,
      "outputs": []
    },
    {
      "cell_type": "markdown",
      "source": [
        "Quick Run to verify"
      ],
      "metadata": {
        "id": "U8yuRcF8YOL5"
      }
    },
    {
      "cell_type": "code",
      "source": [
        "def run_training(model, train_loader, val_loader, config, model_name, patience=10, min_delta=0.001):\n",
        "    model.to(device)  # Move model to the specified device\n",
        "    criterion = nn.CrossEntropyLoss()\n",
        "    optimizer = optim.SGD(model.parameters(), lr=config['lr'], momentum=config['momentum'], weight_decay=config['weight_decay'])\n",
        "\n",
        "    history = {'train_loss': [], 'train_acc': [], 'val_loss': [], 'val_acc': []}\n",
        "    best_val_acc = 0.0\n",
        "    best_val_loss = float('inf')\n",
        "    best_model_wts = copy.deepcopy(model.state_dict())\n",
        "    epochs_no_improve = 0\n",
        "\n",
        "    for epoch in range(config['epochs']):\n",
        "        print(f'Epoch {epoch+1}/{config[\"epochs\"]}')\n",
        "        train_loss, train_acc = train_one_epoch(model, train_loader, criterion, optimizer, device)\n",
        "        val_loss, val_acc = validate(model, val_loader, criterion, device)\n",
        "\n",
        "        history['train_loss'].append(train_loss)\n",
        "        history['train_acc'].append(train_acc)\n",
        "        history['val_loss'].append(val_loss)\n",
        "        history['val_acc'].append(val_acc)\n",
        "\n",
        "        print(f'Train Loss: {train_loss:.4f}, Train Acc: {train_acc:.4f}')\n",
        "        print(f'Val Loss: {val_loss:.4f}, Val Acc: {val_acc:.4f}')\n",
        "\n",
        "        # Save best model based on validation accuracy\n",
        "        if val_acc > best_val_acc:\n",
        "            best_val_acc = val_acc\n",
        "            best_model_wts = copy.deepcopy(model.state_dict())\n",
        "            torch.save(model.state_dict(), os.path.join(config['save_dir'], f'{model_name}_best.pth'))\n",
        "\n",
        "        # Early stopping logic\n",
        "        if val_loss < best_val_loss - min_delta:\n",
        "            best_val_loss = val_loss\n",
        "            epochs_no_improve = 0\n",
        "        else:\n",
        "            epochs_no_improve += 1\n",
        "            if epochs_no_improve == patience:\n",
        "                print(f'Early stopping after {patience} epochs with no improvement in validation loss.')\n",
        "                break\n",
        "\n",
        "\n",
        "    model.load_state_dict(best_model_wts) # Load best model weights\n",
        "    return history\n",
        "\n",
        "quick_cfg = CONFIG.copy()\n",
        "quick_cfg.update({'epochs': 100})\n",
        "print('=== Quick test: ResNet20 ===')\n",
        "h_res = run_training(resnet20(), train_loader, val_loader, quick_cfg, model_name='resnet20_quick')\n",
        "print('=== Quick test: PlainNet20 ===')\n",
        "h_plain = run_training(plain20(), train_loader, val_loader, quick_cfg, model_name='plain20_quick')\n",
        "\n",
        "\n",
        "plot_history([h_res, h_plain], ['ResNet', 'Plain'])"
      ],
      "metadata": {
        "colab": {
          "base_uri": "https://localhost:8080/",
          "height": 1000
        },
        "id": "YBk__ok0YBvF",
        "outputId": "a4437bb1-3ac9-484e-da9e-65f0dc698620"
      },
      "execution_count": null,
      "outputs": [
        {
          "output_type": "stream",
          "name": "stdout",
          "text": [
            "=== Quick test: ResNet20 ===\n",
            "Epoch 1/100\n"
          ]
        },
        {
          "output_type": "stream",
          "name": "stderr",
          "text": []
        },
        {
          "output_type": "stream",
          "name": "stdout",
          "text": [
            "Train Loss: 1.9719, Train Acc: 0.2935\n",
            "Val Loss: 1.6212, Val Acc: 0.4068\n",
            "Epoch 2/100\n"
          ]
        },
        {
          "output_type": "stream",
          "name": "stderr",
          "text": []
        },
        {
          "output_type": "stream",
          "name": "stdout",
          "text": [
            "Train Loss: 1.4146, Train Acc: 0.4783\n",
            "Val Loss: 1.3488, Val Acc: 0.5162\n",
            "Epoch 3/100\n"
          ]
        },
        {
          "output_type": "stream",
          "name": "stderr",
          "text": []
        },
        {
          "output_type": "stream",
          "name": "stdout",
          "text": [
            "Train Loss: 1.1015, Train Acc: 0.6048\n",
            "Val Loss: 1.0575, Val Acc: 0.6194\n",
            "Epoch 4/100\n"
          ]
        },
        {
          "output_type": "stream",
          "name": "stderr",
          "text": []
        },
        {
          "output_type": "stream",
          "name": "stdout",
          "text": [
            "Train Loss: 0.8672, Train Acc: 0.6959\n",
            "Val Loss: 1.1545, Val Acc: 0.6234\n",
            "Epoch 5/100\n"
          ]
        },
        {
          "output_type": "stream",
          "name": "stderr",
          "text": []
        },
        {
          "output_type": "stream",
          "name": "stdout",
          "text": [
            "Train Loss: 0.7157, Train Acc: 0.7525\n",
            "Val Loss: 0.8082, Val Acc: 0.7182\n",
            "Epoch 6/100\n"
          ]
        },
        {
          "output_type": "stream",
          "name": "stderr",
          "text": []
        },
        {
          "output_type": "stream",
          "name": "stdout",
          "text": [
            "Train Loss: 0.6296, Train Acc: 0.7832\n",
            "Val Loss: 0.6645, Val Acc: 0.7688\n",
            "Epoch 7/100\n"
          ]
        },
        {
          "output_type": "stream",
          "name": "stderr",
          "text": []
        },
        {
          "output_type": "stream",
          "name": "stdout",
          "text": [
            "Train Loss: 0.5683, Train Acc: 0.8025\n",
            "Val Loss: 0.7257, Val Acc: 0.7466\n",
            "Epoch 8/100\n"
          ]
        },
        {
          "output_type": "stream",
          "name": "stderr",
          "text": []
        },
        {
          "output_type": "stream",
          "name": "stdout",
          "text": [
            "Train Loss: 0.5340, Train Acc: 0.8141\n",
            "Val Loss: 0.6002, Val Acc: 0.7922\n",
            "Epoch 9/100\n"
          ]
        },
        {
          "output_type": "stream",
          "name": "stderr",
          "text": []
        },
        {
          "output_type": "stream",
          "name": "stdout",
          "text": [
            "Train Loss: 0.4997, Train Acc: 0.8267\n",
            "Val Loss: 0.5871, Val Acc: 0.8000\n",
            "Epoch 10/100\n"
          ]
        },
        {
          "output_type": "stream",
          "name": "stderr",
          "text": []
        },
        {
          "output_type": "stream",
          "name": "stdout",
          "text": [
            "Train Loss: 0.4764, Train Acc: 0.8367\n",
            "Val Loss: 0.6235, Val Acc: 0.7872\n",
            "Epoch 11/100\n"
          ]
        },
        {
          "output_type": "stream",
          "name": "stderr",
          "text": []
        },
        {
          "output_type": "stream",
          "name": "stdout",
          "text": [
            "Train Loss: 0.4597, Train Acc: 0.8427\n",
            "Val Loss: 0.7597, Val Acc: 0.7354\n",
            "Epoch 12/100\n"
          ]
        },
        {
          "output_type": "stream",
          "name": "stderr",
          "text": []
        },
        {
          "output_type": "stream",
          "name": "stdout",
          "text": [
            "Train Loss: 0.4490, Train Acc: 0.8454\n",
            "Val Loss: 0.5262, Val Acc: 0.8210\n",
            "Epoch 13/100\n"
          ]
        },
        {
          "output_type": "stream",
          "name": "stderr",
          "text": []
        },
        {
          "output_type": "stream",
          "name": "stdout",
          "text": [
            "Train Loss: 0.4291, Train Acc: 0.8521\n",
            "Val Loss: 0.8003, Val Acc: 0.7452\n",
            "Epoch 14/100\n"
          ]
        },
        {
          "output_type": "stream",
          "name": "stderr",
          "text": []
        },
        {
          "output_type": "stream",
          "name": "stdout",
          "text": [
            "Train Loss: 0.4248, Train Acc: 0.8547\n",
            "Val Loss: 0.6680, Val Acc: 0.7824\n",
            "Epoch 15/100\n"
          ]
        },
        {
          "output_type": "stream",
          "name": "stderr",
          "text": []
        },
        {
          "output_type": "stream",
          "name": "stdout",
          "text": [
            "Train Loss: 0.4059, Train Acc: 0.8628\n",
            "Val Loss: 0.5385, Val Acc: 0.8234\n",
            "Epoch 16/100\n"
          ]
        },
        {
          "output_type": "stream",
          "name": "stderr",
          "text": []
        },
        {
          "output_type": "stream",
          "name": "stdout",
          "text": [
            "Train Loss: 0.3996, Train Acc: 0.8658\n",
            "Val Loss: 0.7171, Val Acc: 0.7654\n",
            "Epoch 17/100\n"
          ]
        },
        {
          "output_type": "stream",
          "name": "stderr",
          "text": []
        },
        {
          "output_type": "stream",
          "name": "stdout",
          "text": [
            "Train Loss: 0.3924, Train Acc: 0.8652\n",
            "Val Loss: 0.6383, Val Acc: 0.7932\n",
            "Epoch 18/100\n"
          ]
        },
        {
          "output_type": "stream",
          "name": "stderr",
          "text": []
        },
        {
          "output_type": "stream",
          "name": "stdout",
          "text": [
            "Train Loss: 0.3794, Train Acc: 0.8701\n",
            "Val Loss: 0.5698, Val Acc: 0.8116\n",
            "Epoch 19/100\n"
          ]
        },
        {
          "output_type": "stream",
          "name": "stderr",
          "text": []
        },
        {
          "output_type": "stream",
          "name": "stdout",
          "text": [
            "Train Loss: 0.3747, Train Acc: 0.8702\n",
            "Val Loss: 0.6303, Val Acc: 0.7900\n",
            "Epoch 20/100\n"
          ]
        },
        {
          "output_type": "stream",
          "name": "stderr",
          "text": []
        },
        {
          "output_type": "stream",
          "name": "stdout",
          "text": [
            "Train Loss: 0.3729, Train Acc: 0.8732\n",
            "Val Loss: 0.4551, Val Acc: 0.8468\n",
            "Epoch 21/100\n"
          ]
        },
        {
          "output_type": "stream",
          "name": "stderr",
          "text": []
        },
        {
          "output_type": "stream",
          "name": "stdout",
          "text": [
            "Train Loss: 0.3672, Train Acc: 0.8759\n",
            "Val Loss: 0.5028, Val Acc: 0.8304\n",
            "Epoch 22/100\n"
          ]
        },
        {
          "output_type": "stream",
          "name": "stderr",
          "text": []
        },
        {
          "output_type": "stream",
          "name": "stdout",
          "text": [
            "Train Loss: 0.3602, Train Acc: 0.8754\n",
            "Val Loss: 0.5634, Val Acc: 0.8150\n",
            "Epoch 23/100\n"
          ]
        },
        {
          "output_type": "stream",
          "name": "stderr",
          "text": []
        },
        {
          "output_type": "stream",
          "name": "stdout",
          "text": [
            "Train Loss: 0.3579, Train Acc: 0.8778\n",
            "Val Loss: 0.6782, Val Acc: 0.7814\n",
            "Epoch 24/100\n"
          ]
        },
        {
          "output_type": "stream",
          "name": "stderr",
          "text": []
        },
        {
          "output_type": "stream",
          "name": "stdout",
          "text": [
            "Train Loss: 0.3584, Train Acc: 0.8782\n",
            "Val Loss: 0.5095, Val Acc: 0.8220\n",
            "Epoch 25/100\n"
          ]
        },
        {
          "output_type": "stream",
          "name": "stderr",
          "text": []
        },
        {
          "output_type": "stream",
          "name": "stdout",
          "text": [
            "Train Loss: 0.3533, Train Acc: 0.8801\n",
            "Val Loss: 0.4732, Val Acc: 0.8402\n",
            "Epoch 26/100\n"
          ]
        },
        {
          "output_type": "stream",
          "name": "stderr",
          "text": []
        },
        {
          "output_type": "stream",
          "name": "stdout",
          "text": [
            "Train Loss: 0.3436, Train Acc: 0.8824\n",
            "Val Loss: 0.5200, Val Acc: 0.8160\n",
            "Epoch 27/100\n"
          ]
        },
        {
          "output_type": "stream",
          "name": "stderr",
          "text": []
        },
        {
          "output_type": "stream",
          "name": "stdout",
          "text": [
            "Train Loss: 0.3399, Train Acc: 0.8829\n",
            "Val Loss: 0.5529, Val Acc: 0.8206\n",
            "Epoch 28/100\n"
          ]
        },
        {
          "output_type": "stream",
          "name": "stderr",
          "text": []
        },
        {
          "output_type": "stream",
          "name": "stdout",
          "text": [
            "Train Loss: 0.3397, Train Acc: 0.8838\n",
            "Val Loss: 0.5827, Val Acc: 0.8032\n",
            "Epoch 29/100\n"
          ]
        },
        {
          "output_type": "stream",
          "name": "stderr",
          "text": []
        },
        {
          "output_type": "stream",
          "name": "stdout",
          "text": [
            "Train Loss: 0.3394, Train Acc: 0.8839\n",
            "Val Loss: 0.5160, Val Acc: 0.8242\n",
            "Epoch 30/100\n"
          ]
        },
        {
          "output_type": "stream",
          "name": "stderr",
          "text": []
        },
        {
          "output_type": "stream",
          "name": "stdout",
          "text": [
            "Train Loss: 0.3301, Train Acc: 0.8870\n",
            "Val Loss: 0.5139, Val Acc: 0.8242\n",
            "Early stopping after 10 epochs with no improvement in validation loss.\n",
            "=== Quick test: PlainNet20 ===\n",
            "Epoch 1/100\n"
          ]
        },
        {
          "output_type": "stream",
          "name": "stderr",
          "text": []
        },
        {
          "output_type": "stream",
          "name": "stdout",
          "text": [
            "Train Loss: 1.7128, Train Acc: 0.3561\n",
            "Val Loss: 1.6123, Val Acc: 0.4044\n",
            "Epoch 2/100\n"
          ]
        },
        {
          "output_type": "stream",
          "name": "stderr",
          "text": []
        },
        {
          "output_type": "stream",
          "name": "stdout",
          "text": [
            "Train Loss: 1.2382, Train Acc: 0.5511\n",
            "Val Loss: 1.3600, Val Acc: 0.5396\n",
            "Epoch 3/100\n"
          ]
        },
        {
          "output_type": "stream",
          "name": "stderr",
          "text": []
        },
        {
          "output_type": "stream",
          "name": "stdout",
          "text": [
            "Train Loss: 0.9777, Train Acc: 0.6546\n",
            "Val Loss: 1.1221, Val Acc: 0.6046\n",
            "Epoch 4/100\n"
          ]
        },
        {
          "output_type": "stream",
          "name": "stderr",
          "text": []
        },
        {
          "output_type": "stream",
          "name": "stdout",
          "text": [
            "Train Loss: 0.8219, Train Acc: 0.7144\n",
            "Val Loss: 1.3756, Val Acc: 0.5742\n",
            "Epoch 5/100\n"
          ]
        },
        {
          "output_type": "stream",
          "name": "stderr",
          "text": []
        },
        {
          "output_type": "stream",
          "name": "stdout",
          "text": [
            "Train Loss: 0.7258, Train Acc: 0.7497\n",
            "Val Loss: 0.9815, Val Acc: 0.6548\n",
            "Epoch 6/100\n"
          ]
        },
        {
          "output_type": "stream",
          "name": "stderr",
          "text": []
        },
        {
          "output_type": "stream",
          "name": "stdout",
          "text": [
            "Train Loss: 0.6696, Train Acc: 0.7709\n",
            "Val Loss: 1.4967, Val Acc: 0.5714\n",
            "Epoch 7/100\n"
          ]
        },
        {
          "output_type": "stream",
          "name": "stderr",
          "text": []
        },
        {
          "output_type": "stream",
          "name": "stdout",
          "text": [
            "Train Loss: 0.6323, Train Acc: 0.7840\n",
            "Val Loss: 0.7884, Val Acc: 0.7328\n",
            "Epoch 8/100\n"
          ]
        },
        {
          "output_type": "stream",
          "name": "stderr",
          "text": []
        },
        {
          "output_type": "stream",
          "name": "stdout",
          "text": [
            "Train Loss: 0.6052, Train Acc: 0.7932\n",
            "Val Loss: 0.7607, Val Acc: 0.7404\n",
            "Epoch 9/100\n"
          ]
        },
        {
          "output_type": "stream",
          "name": "stderr",
          "text": []
        },
        {
          "output_type": "stream",
          "name": "stdout",
          "text": [
            "Train Loss: 0.5933, Train Acc: 0.7972\n",
            "Val Loss: 0.8939, Val Acc: 0.6878\n",
            "Epoch 10/100\n"
          ]
        },
        {
          "output_type": "stream",
          "name": "stderr",
          "text": []
        },
        {
          "output_type": "stream",
          "name": "stdout",
          "text": [
            "Train Loss: 0.5633, Train Acc: 0.8074\n",
            "Val Loss: 0.7841, Val Acc: 0.7426\n",
            "Epoch 11/100\n"
          ]
        },
        {
          "output_type": "stream",
          "name": "stderr",
          "text": []
        },
        {
          "output_type": "stream",
          "name": "stdout",
          "text": [
            "Train Loss: 0.5549, Train Acc: 0.8110\n",
            "Val Loss: 0.7502, Val Acc: 0.7476\n",
            "Epoch 12/100\n"
          ]
        },
        {
          "output_type": "stream",
          "name": "stderr",
          "text": []
        },
        {
          "output_type": "stream",
          "name": "stdout",
          "text": [
            "Train Loss: 0.5439, Train Acc: 0.8129\n",
            "Val Loss: 0.8423, Val Acc: 0.7144\n",
            "Epoch 13/100\n"
          ]
        },
        {
          "output_type": "stream",
          "name": "stderr",
          "text": []
        },
        {
          "output_type": "stream",
          "name": "stdout",
          "text": [
            "Train Loss: 0.5251, Train Acc: 0.8198\n",
            "Val Loss: 0.7630, Val Acc: 0.7490\n",
            "Epoch 14/100\n"
          ]
        },
        {
          "output_type": "stream",
          "name": "stderr",
          "text": []
        },
        {
          "output_type": "stream",
          "name": "stdout",
          "text": [
            "Train Loss: 0.5211, Train Acc: 0.8238\n",
            "Val Loss: 0.7778, Val Acc: 0.7294\n",
            "Epoch 15/100\n"
          ]
        },
        {
          "output_type": "stream",
          "name": "stderr",
          "text": []
        },
        {
          "output_type": "stream",
          "name": "stdout",
          "text": [
            "Train Loss: 0.5147, Train Acc: 0.8252\n",
            "Val Loss: 0.6628, Val Acc: 0.7760\n",
            "Epoch 16/100\n"
          ]
        },
        {
          "output_type": "stream",
          "name": "stderr",
          "text": []
        },
        {
          "output_type": "stream",
          "name": "stdout",
          "text": [
            "Train Loss: 0.5047, Train Acc: 0.8296\n",
            "Val Loss: 0.9179, Val Acc: 0.7210\n",
            "Epoch 17/100\n"
          ]
        },
        {
          "output_type": "stream",
          "name": "stderr",
          "text": []
        },
        {
          "output_type": "stream",
          "name": "stdout",
          "text": [
            "Train Loss: 0.4935, Train Acc: 0.8336\n",
            "Val Loss: 0.7526, Val Acc: 0.7554\n",
            "Epoch 18/100\n"
          ]
        },
        {
          "output_type": "stream",
          "name": "stderr",
          "text": []
        },
        {
          "output_type": "stream",
          "name": "stdout",
          "text": [
            "Train Loss: 0.4920, Train Acc: 0.8329\n",
            "Val Loss: 0.8557, Val Acc: 0.7162\n",
            "Epoch 19/100\n"
          ]
        },
        {
          "output_type": "stream",
          "name": "stderr",
          "text": []
        },
        {
          "output_type": "stream",
          "name": "stdout",
          "text": [
            "Train Loss: 0.4815, Train Acc: 0.8389\n",
            "Val Loss: 0.8367, Val Acc: 0.7320\n",
            "Epoch 20/100\n"
          ]
        },
        {
          "output_type": "stream",
          "name": "stderr",
          "text": []
        },
        {
          "output_type": "stream",
          "name": "stdout",
          "text": [
            "Train Loss: 0.4794, Train Acc: 0.8382\n",
            "Val Loss: 0.7434, Val Acc: 0.7582\n",
            "Epoch 21/100\n"
          ]
        },
        {
          "output_type": "stream",
          "name": "stderr",
          "text": []
        },
        {
          "output_type": "stream",
          "name": "stdout",
          "text": [
            "Train Loss: 0.4713, Train Acc: 0.8413\n",
            "Val Loss: 0.8293, Val Acc: 0.7252\n",
            "Epoch 22/100\n"
          ]
        },
        {
          "output_type": "stream",
          "name": "stderr",
          "text": []
        },
        {
          "output_type": "stream",
          "name": "stdout",
          "text": [
            "Train Loss: 0.4637, Train Acc: 0.8424\n",
            "Val Loss: 1.3977, Val Acc: 0.6106\n",
            "Epoch 23/100\n"
          ]
        },
        {
          "output_type": "stream",
          "name": "stderr",
          "text": []
        },
        {
          "output_type": "stream",
          "name": "stdout",
          "text": [
            "Train Loss: 0.4588, Train Acc: 0.8455\n",
            "Val Loss: 0.6368, Val Acc: 0.7898\n",
            "Epoch 24/100\n"
          ]
        },
        {
          "output_type": "stream",
          "name": "stderr",
          "text": []
        },
        {
          "output_type": "stream",
          "name": "stdout",
          "text": [
            "Train Loss: 0.4513, Train Acc: 0.8486\n",
            "Val Loss: 1.2001, Val Acc: 0.6402\n",
            "Epoch 25/100\n"
          ]
        },
        {
          "output_type": "stream",
          "name": "stderr",
          "text": []
        },
        {
          "output_type": "stream",
          "name": "stdout",
          "text": [
            "Train Loss: 0.4546, Train Acc: 0.8465\n",
            "Val Loss: 0.6516, Val Acc: 0.7848\n",
            "Epoch 26/100\n"
          ]
        },
        {
          "output_type": "stream",
          "name": "stderr",
          "text": []
        },
        {
          "output_type": "stream",
          "name": "stdout",
          "text": [
            "Train Loss: 0.4514, Train Acc: 0.8479\n",
            "Val Loss: 1.1704, Val Acc: 0.6758\n",
            "Epoch 27/100\n"
          ]
        },
        {
          "output_type": "stream",
          "name": "stderr",
          "text": []
        },
        {
          "output_type": "stream",
          "name": "stdout",
          "text": [
            "Train Loss: 0.4428, Train Acc: 0.8518\n",
            "Val Loss: 0.6104, Val Acc: 0.7942\n",
            "Epoch 28/100\n"
          ]
        },
        {
          "output_type": "stream",
          "name": "stderr",
          "text": []
        },
        {
          "output_type": "stream",
          "name": "stdout",
          "text": [
            "Train Loss: 0.4341, Train Acc: 0.8533\n",
            "Val Loss: 0.6121, Val Acc: 0.7938\n",
            "Epoch 29/100\n"
          ]
        },
        {
          "output_type": "stream",
          "name": "stderr",
          "text": []
        },
        {
          "output_type": "stream",
          "name": "stdout",
          "text": [
            "Train Loss: 0.4330, Train Acc: 0.8541\n",
            "Val Loss: 0.7048, Val Acc: 0.7700\n",
            "Epoch 30/100\n"
          ]
        },
        {
          "output_type": "stream",
          "name": "stderr",
          "text": []
        },
        {
          "output_type": "stream",
          "name": "stdout",
          "text": [
            "Train Loss: 0.4412, Train Acc: 0.8520\n",
            "Val Loss: 0.5436, Val Acc: 0.8120\n",
            "Epoch 31/100\n"
          ]
        },
        {
          "output_type": "stream",
          "name": "stderr",
          "text": []
        },
        {
          "output_type": "stream",
          "name": "stdout",
          "text": [
            "Train Loss: 0.4310, Train Acc: 0.8547\n",
            "Val Loss: 0.7706, Val Acc: 0.7620\n",
            "Epoch 32/100\n"
          ]
        },
        {
          "output_type": "stream",
          "name": "stderr",
          "text": []
        },
        {
          "output_type": "stream",
          "name": "stdout",
          "text": [
            "Train Loss: 0.4304, Train Acc: 0.8555\n",
            "Val Loss: 0.7586, Val Acc: 0.7496\n",
            "Epoch 33/100\n"
          ]
        },
        {
          "output_type": "stream",
          "name": "stderr",
          "text": []
        },
        {
          "output_type": "stream",
          "name": "stdout",
          "text": [
            "Train Loss: 0.4276, Train Acc: 0.8557\n",
            "Val Loss: 0.7424, Val Acc: 0.7546\n",
            "Epoch 34/100\n"
          ]
        },
        {
          "output_type": "stream",
          "name": "stderr",
          "text": []
        },
        {
          "output_type": "stream",
          "name": "stdout",
          "text": [
            "Train Loss: 0.4257, Train Acc: 0.8558\n",
            "Val Loss: 0.6175, Val Acc: 0.8000\n",
            "Epoch 35/100\n"
          ]
        },
        {
          "output_type": "stream",
          "name": "stderr",
          "text": []
        },
        {
          "output_type": "stream",
          "name": "stdout",
          "text": [
            "Train Loss: 0.4249, Train Acc: 0.8566\n",
            "Val Loss: 0.7899, Val Acc: 0.7438\n",
            "Epoch 36/100\n"
          ]
        },
        {
          "output_type": "stream",
          "name": "stderr",
          "text": []
        },
        {
          "output_type": "stream",
          "name": "stdout",
          "text": [
            "Train Loss: 0.4208, Train Acc: 0.8581\n",
            "Val Loss: 0.5991, Val Acc: 0.7910\n",
            "Epoch 37/100\n"
          ]
        },
        {
          "output_type": "stream",
          "name": "stderr",
          "text": []
        },
        {
          "output_type": "stream",
          "name": "stdout",
          "text": [
            "Train Loss: 0.4183, Train Acc: 0.8594\n",
            "Val Loss: 0.8718, Val Acc: 0.7146\n",
            "Epoch 38/100\n"
          ]
        },
        {
          "output_type": "stream",
          "name": "stderr",
          "text": []
        },
        {
          "output_type": "stream",
          "name": "stdout",
          "text": [
            "Train Loss: 0.4144, Train Acc: 0.8614\n",
            "Val Loss: 0.5529, Val Acc: 0.8166\n",
            "Epoch 39/100\n"
          ]
        },
        {
          "output_type": "stream",
          "name": "stderr",
          "text": []
        },
        {
          "output_type": "stream",
          "name": "stdout",
          "text": [
            "Train Loss: 0.4210, Train Acc: 0.8593\n",
            "Val Loss: 0.8535, Val Acc: 0.7420\n",
            "Epoch 40/100\n"
          ]
        },
        {
          "output_type": "stream",
          "name": "stderr",
          "text": []
        },
        {
          "output_type": "stream",
          "name": "stdout",
          "text": [
            "Train Loss: 0.4145, Train Acc: 0.8600\n",
            "Val Loss: 0.7241, Val Acc: 0.7582\n",
            "Early stopping after 10 epochs with no improvement in validation loss.\n"
          ]
        },
        {
          "output_type": "display_data",
          "data": {
            "text/plain": [
              "<Figure size 1200x500 with 2 Axes>"
            ],
            "image/png": "[encoded data removed]"
          },
          "metadata": {}
        }
      ]
    },
    {
      "cell_type": "code",
      "source": [
        "CONFIG['epochs'] = 25\n",
        "hist_res = run_training(resnet20(), train_loader, val_loader, CONFIG, model_name='resnet20')\n",
        "hist_plain = run_training(plain20(), train_loader, val_loader, CONFIG, model_name='plain20')\n",
        "plot_history([hist_res, hist_plain], ['ResNet20', 'Plain20'], out_path='training_comparison.png')\n"
      ],
      "metadata": {
        "id": "Hu3kqX6SYRv_",
        "colab": {
          "base_uri": "https://localhost:8080/",
          "height": 1000
        },
        "outputId": "55b5a132-d101-4710-c82e-ad261872a435"
      },
      "execution_count": null,
      "outputs": [
        {
          "output_type": "stream",
          "name": "stdout",
          "text": [
            "Epoch 1/25\n"
          ]
        },
        {
          "output_type": "stream",
          "name": "stderr",
          "text": []
        },
        {
          "output_type": "stream",
          "name": "stdout",
          "text": [
            "Train Loss: 1.8636, Train Acc: 0.3168\n",
            "Val Loss: 1.6203, Val Acc: 0.4072\n",
            "Epoch 2/25\n"
          ]
        },
        {
          "output_type": "stream",
          "name": "stderr",
          "text": []
        },
        {
          "output_type": "stream",
          "name": "stdout",
          "text": [
            "Train Loss: 1.2537, Train Acc: 0.5462\n",
            "Val Loss: 1.1754, Val Acc: 0.5758\n",
            "Epoch 3/25\n"
          ]
        },
        {
          "output_type": "stream",
          "name": "stderr",
          "text": []
        },
        {
          "output_type": "stream",
          "name": "stdout",
          "text": [
            "Train Loss: 0.9442, Train Acc: 0.6655\n",
            "Val Loss: 1.1015, Val Acc: 0.5950\n",
            "Epoch 4/25\n"
          ]
        },
        {
          "output_type": "stream",
          "name": "stderr",
          "text": []
        },
        {
          "output_type": "stream",
          "name": "stdout",
          "text": [
            "Train Loss: 0.7563, Train Acc: 0.7359\n",
            "Val Loss: 0.8570, Val Acc: 0.7134\n",
            "Epoch 5/25\n"
          ]
        },
        {
          "output_type": "stream",
          "name": "stderr",
          "text": []
        },
        {
          "output_type": "stream",
          "name": "stdout",
          "text": [
            "Train Loss: 0.6455, Train Acc: 0.7763\n",
            "Val Loss: 0.9045, Val Acc: 0.7096\n",
            "Epoch 6/25\n"
          ]
        },
        {
          "output_type": "stream",
          "name": "stderr",
          "text": []
        },
        {
          "output_type": "stream",
          "name": "stdout",
          "text": [
            "Train Loss: 0.5826, Train Acc: 0.8001\n",
            "Val Loss: 1.0067, Val Acc: 0.6768\n",
            "Epoch 7/25\n"
          ]
        },
        {
          "output_type": "stream",
          "name": "stderr",
          "text": []
        },
        {
          "output_type": "stream",
          "name": "stdout",
          "text": [
            "Train Loss: 0.5380, Train Acc: 0.8159\n",
            "Val Loss: 0.7557, Val Acc: 0.7512\n",
            "Epoch 8/25\n"
          ]
        },
        {
          "output_type": "stream",
          "name": "stderr",
          "text": []
        },
        {
          "output_type": "stream",
          "name": "stdout",
          "text": [
            "Train Loss: 0.5074, Train Acc: 0.8262\n",
            "Val Loss: 1.0058, Val Acc: 0.6862\n",
            "Epoch 9/25\n"
          ]
        },
        {
          "output_type": "stream",
          "name": "stderr",
          "text": []
        },
        {
          "output_type": "stream",
          "name": "stdout",
          "text": [
            "Train Loss: 0.4895, Train Acc: 0.8314\n",
            "Val Loss: 0.7047, Val Acc: 0.7576\n",
            "Epoch 10/25\n"
          ]
        },
        {
          "output_type": "stream",
          "name": "stderr",
          "text": []
        },
        {
          "output_type": "stream",
          "name": "stdout",
          "text": [
            "Train Loss: 0.4692, Train Acc: 0.8384\n",
            "Val Loss: 0.6018, Val Acc: 0.7930\n",
            "Epoch 11/25\n"
          ]
        },
        {
          "output_type": "stream",
          "name": "stderr",
          "text": []
        },
        {
          "output_type": "stream",
          "name": "stdout",
          "text": [
            "Train Loss: 0.4474, Train Acc: 0.8458\n",
            "Val Loss: 0.6449, Val Acc: 0.7810\n",
            "Epoch 12/25\n"
          ]
        },
        {
          "output_type": "stream",
          "name": "stderr",
          "text": []
        },
        {
          "output_type": "stream",
          "name": "stdout",
          "text": [
            "Train Loss: 0.4341, Train Acc: 0.8512\n",
            "Val Loss: 0.6456, Val Acc: 0.7892\n",
            "Epoch 13/25\n"
          ]
        },
        {
          "output_type": "stream",
          "name": "stderr",
          "text": []
        },
        {
          "output_type": "stream",
          "name": "stdout",
          "text": [
            "Train Loss: 0.4236, Train Acc: 0.8546\n",
            "Val Loss: 0.6044, Val Acc: 0.7944\n",
            "Epoch 14/25\n"
          ]
        },
        {
          "output_type": "stream",
          "name": "stderr",
          "text": []
        },
        {
          "output_type": "stream",
          "name": "stdout",
          "text": [
            "Train Loss: 0.4096, Train Acc: 0.8595\n",
            "Val Loss: 0.6742, Val Acc: 0.7742\n",
            "Epoch 15/25\n"
          ]
        },
        {
          "output_type": "stream",
          "name": "stderr",
          "text": []
        },
        {
          "output_type": "stream",
          "name": "stdout",
          "text": [
            "Train Loss: 0.4025, Train Acc: 0.8615\n",
            "Val Loss: 0.5937, Val Acc: 0.7954\n",
            "Epoch 16/25\n"
          ]
        },
        {
          "output_type": "stream",
          "name": "stderr",
          "text": []
        },
        {
          "output_type": "stream",
          "name": "stdout",
          "text": [
            "Train Loss: 0.3952, Train Acc: 0.8643\n",
            "Val Loss: 0.6432, Val Acc: 0.7918\n",
            "Epoch 17/25\n"
          ]
        },
        {
          "output_type": "stream",
          "name": "stderr",
          "text": []
        },
        {
          "output_type": "stream",
          "name": "stdout",
          "text": [
            "Train Loss: 0.3839, Train Acc: 0.8693\n",
            "Val Loss: 0.6920, Val Acc: 0.7706\n",
            "Epoch 18/25\n"
          ]
        },
        {
          "output_type": "stream",
          "name": "stderr",
          "text": []
        },
        {
          "output_type": "stream",
          "name": "stdout",
          "text": [
            "Train Loss: 0.3827, Train Acc: 0.8701\n",
            "Val Loss: 0.5549, Val Acc: 0.8104\n",
            "Epoch 19/25\n"
          ]
        },
        {
          "output_type": "stream",
          "name": "stderr",
          "text": []
        },
        {
          "output_type": "stream",
          "name": "stdout",
          "text": [
            "Train Loss: 0.3724, Train Acc: 0.8727\n",
            "Val Loss: 0.5866, Val Acc: 0.8052\n",
            "Epoch 20/25\n"
          ]
        },
        {
          "output_type": "stream",
          "name": "stderr",
          "text": []
        },
        {
          "output_type": "stream",
          "name": "stdout",
          "text": [
            "Train Loss: 0.3700, Train Acc: 0.8729\n",
            "Val Loss: 0.7527, Val Acc: 0.7560\n",
            "Epoch 21/25\n"
          ]
        },
        {
          "output_type": "stream",
          "name": "stderr",
          "text": []
        },
        {
          "output_type": "stream",
          "name": "stdout",
          "text": [
            "Train Loss: 0.3666, Train Acc: 0.8739\n",
            "Val Loss: 0.7023, Val Acc: 0.7670\n",
            "Epoch 22/25\n"
          ]
        },
        {
          "output_type": "stream",
          "name": "stderr",
          "text": []
        },
        {
          "output_type": "stream",
          "name": "stdout",
          "text": [
            "Train Loss: 0.3564, Train Acc: 0.8774\n",
            "Val Loss: 0.5230, Val Acc: 0.8192\n",
            "Epoch 23/25\n"
          ]
        },
        {
          "output_type": "stream",
          "name": "stderr",
          "text": []
        },
        {
          "output_type": "stream",
          "name": "stdout",
          "text": [
            "Train Loss: 0.3473, Train Acc: 0.8799\n",
            "Val Loss: 0.6799, Val Acc: 0.7776\n",
            "Epoch 24/25\n"
          ]
        },
        {
          "output_type": "stream",
          "name": "stderr",
          "text": []
        },
        {
          "output_type": "stream",
          "name": "stdout",
          "text": [
            "Train Loss: 0.3538, Train Acc: 0.8781\n",
            "Val Loss: 0.4871, Val Acc: 0.8380\n",
            "Epoch 25/25\n"
          ]
        },
        {
          "output_type": "stream",
          "name": "stderr",
          "text": []
        },
        {
          "output_type": "stream",
          "name": "stdout",
          "text": [
            "Train Loss: 0.3439, Train Acc: 0.8823\n",
            "Val Loss: 0.4644, Val Acc: 0.8380\n",
            "Epoch 1/25\n"
          ]
        },
        {
          "output_type": "stream",
          "name": "stderr",
          "text": []
        },
        {
          "output_type": "stream",
          "name": "stdout",
          "text": [
            "Train Loss: 1.7562, Train Acc: 0.3393\n",
            "Val Loss: 1.6226, Val Acc: 0.3948\n",
            "Epoch 2/25\n"
          ]
        },
        {
          "output_type": "stream",
          "name": "stderr",
          "text": []
        },
        {
          "output_type": "stream",
          "name": "stdout",
          "text": [
            "Train Loss: 1.3449, Train Acc: 0.5111\n",
            "Val Loss: 1.4467, Val Acc: 0.4932\n",
            "Epoch 3/25\n"
          ]
        },
        {
          "output_type": "stream",
          "name": "stderr",
          "text": []
        },
        {
          "output_type": "stream",
          "name": "stdout",
          "text": [
            "Train Loss: 1.0399, Train Acc: 0.6324\n",
            "Val Loss: 0.9967, Val Acc: 0.6516\n",
            "Epoch 4/25\n"
          ]
        },
        {
          "output_type": "stream",
          "name": "stderr",
          "text": []
        },
        {
          "output_type": "stream",
          "name": "stdout",
          "text": [
            "Train Loss: 0.8578, Train Acc: 0.7018\n",
            "Val Loss: 0.9857, Val Acc: 0.6584\n",
            "Epoch 5/25\n"
          ]
        },
        {
          "output_type": "stream",
          "name": "stderr",
          "text": []
        },
        {
          "output_type": "stream",
          "name": "stdout",
          "text": [
            "Train Loss: 0.7500, Train Acc: 0.7399\n",
            "Val Loss: 0.8564, Val Acc: 0.7000\n",
            "Epoch 6/25\n"
          ]
        },
        {
          "output_type": "stream",
          "name": "stderr",
          "text": []
        },
        {
          "output_type": "stream",
          "name": "stdout",
          "text": [
            "Train Loss: 0.6839, Train Acc: 0.7652\n",
            "Val Loss: 0.7448, Val Acc: 0.7434\n",
            "Epoch 7/25\n"
          ]
        },
        {
          "output_type": "stream",
          "name": "stderr",
          "text": []
        },
        {
          "output_type": "stream",
          "name": "stdout",
          "text": [
            "Train Loss: 0.6400, Train Acc: 0.7823\n",
            "Val Loss: 0.7310, Val Acc: 0.7584\n",
            "Epoch 8/25\n"
          ]
        },
        {
          "output_type": "stream",
          "name": "stderr",
          "text": []
        },
        {
          "output_type": "stream",
          "name": "stdout",
          "text": [
            "Train Loss: 0.6134, Train Acc: 0.7904\n",
            "Val Loss: 0.9555, Val Acc: 0.6758\n",
            "Epoch 9/25\n"
          ]
        },
        {
          "output_type": "stream",
          "name": "stderr",
          "text": []
        },
        {
          "output_type": "stream",
          "name": "stdout",
          "text": [
            "Train Loss: 0.5918, Train Acc: 0.7980\n",
            "Val Loss: 1.0443, Val Acc: 0.6700\n",
            "Epoch 10/25\n"
          ]
        },
        {
          "output_type": "stream",
          "name": "stderr",
          "text": []
        },
        {
          "output_type": "stream",
          "name": "stdout",
          "text": [
            "Train Loss: 0.5805, Train Acc: 0.8021\n",
            "Val Loss: 1.1362, Val Acc: 0.6442\n",
            "Epoch 11/25\n"
          ]
        },
        {
          "output_type": "stream",
          "name": "stderr",
          "text": []
        },
        {
          "output_type": "stream",
          "name": "stdout",
          "text": [
            "Train Loss: 0.5573, Train Acc: 0.8094\n",
            "Val Loss: 0.7159, Val Acc: 0.7566\n",
            "Epoch 12/25\n"
          ]
        },
        {
          "output_type": "stream",
          "name": "stderr",
          "text": []
        },
        {
          "output_type": "stream",
          "name": "stdout",
          "text": [
            "Train Loss: 0.5415, Train Acc: 0.8178\n",
            "Val Loss: 0.8783, Val Acc: 0.6930\n",
            "Epoch 13/25\n"
          ]
        },
        {
          "output_type": "stream",
          "name": "stderr",
          "text": []
        },
        {
          "output_type": "stream",
          "name": "stdout",
          "text": [
            "Train Loss: 0.5271, Train Acc: 0.8204\n",
            "Val Loss: 0.8299, Val Acc: 0.7340\n",
            "Epoch 14/25\n"
          ]
        },
        {
          "output_type": "stream",
          "name": "stderr",
          "text": []
        },
        {
          "output_type": "stream",
          "name": "stdout",
          "text": [
            "Train Loss: 0.5292, Train Acc: 0.8205\n",
            "Val Loss: 0.6999, Val Acc: 0.7698\n",
            "Epoch 15/25\n"
          ]
        },
        {
          "output_type": "stream",
          "name": "stderr",
          "text": []
        },
        {
          "output_type": "stream",
          "name": "stdout",
          "text": [
            "Train Loss: 0.5122, Train Acc: 0.8277\n",
            "Val Loss: 0.8997, Val Acc: 0.7166\n",
            "Epoch 16/25\n"
          ]
        },
        {
          "output_type": "stream",
          "name": "stderr",
          "text": []
        },
        {
          "output_type": "stream",
          "name": "stdout",
          "text": [
            "Train Loss: 0.5074, Train Acc: 0.8275\n",
            "Val Loss: 0.7753, Val Acc: 0.7472\n",
            "Epoch 17/25\n"
          ]
        },
        {
          "output_type": "stream",
          "name": "stderr",
          "text": []
        },
        {
          "output_type": "stream",
          "name": "stdout",
          "text": [
            "Train Loss: 0.4966, Train Acc: 0.8322\n",
            "Val Loss: 0.7104, Val Acc: 0.7584\n",
            "Epoch 18/25\n"
          ]
        },
        {
          "output_type": "stream",
          "name": "stderr",
          "text": []
        },
        {
          "output_type": "stream",
          "name": "stdout",
          "text": [
            "Train Loss: 0.4871, Train Acc: 0.8353\n",
            "Val Loss: 0.7754, Val Acc: 0.7420\n",
            "Epoch 19/25\n"
          ]
        },
        {
          "output_type": "stream",
          "name": "stderr",
          "text": []
        },
        {
          "output_type": "stream",
          "name": "stdout",
          "text": [
            "Train Loss: 0.4819, Train Acc: 0.8359\n",
            "Val Loss: 0.7801, Val Acc: 0.7426\n",
            "Epoch 20/25\n"
          ]
        },
        {
          "output_type": "stream",
          "name": "stderr",
          "text": []
        },
        {
          "output_type": "stream",
          "name": "stdout",
          "text": [
            "Train Loss: 0.4762, Train Acc: 0.8390\n",
            "Val Loss: 0.8156, Val Acc: 0.7408\n",
            "Epoch 21/25\n"
          ]
        },
        {
          "output_type": "stream",
          "name": "stderr",
          "text": []
        },
        {
          "output_type": "stream",
          "name": "stdout",
          "text": [
            "Train Loss: 0.4712, Train Acc: 0.8421\n",
            "Val Loss: 0.7576, Val Acc: 0.7546\n",
            "Epoch 22/25\n"
          ]
        },
        {
          "output_type": "stream",
          "name": "stderr",
          "text": []
        },
        {
          "output_type": "stream",
          "name": "stdout",
          "text": [
            "Train Loss: 0.4725, Train Acc: 0.8389\n",
            "Val Loss: 0.7875, Val Acc: 0.7474\n",
            "Epoch 23/25\n"
          ]
        },
        {
          "output_type": "stream",
          "name": "stderr",
          "text": []
        },
        {
          "output_type": "stream",
          "name": "stdout",
          "text": [
            "Train Loss: 0.4679, Train Acc: 0.8408\n",
            "Val Loss: 0.7044, Val Acc: 0.7676\n",
            "Epoch 24/25\n"
          ]
        },
        {
          "output_type": "stream",
          "name": "stderr",
          "text": []
        },
        {
          "output_type": "stream",
          "name": "stdout",
          "text": [
            "Train Loss: 0.4616, Train Acc: 0.8431\n",
            "Val Loss: 0.8523, Val Acc: 0.7212\n",
            "Early stopping after 10 epochs with no improvement in validation loss.\n"
          ]
        },
        {
          "output_type": "display_data",
          "data": {
            "text/plain": [
              "<Figure size 1200x500 with 2 Axes>"
            ],
            "image/png": "[encoded data removed]"
          },
          "metadata": {}
        }
      ]
    },
    {
      "cell_type": "code",
      "source": [
        "ckpt = torch.load(os.path.join(CONFIG['save_dir'], 'resnet20_best.pth'), map_location=device)\n",
        "model = resnet20()\n",
        "model.load_state_dict(ckpt)\n",
        "model = model.to(device)\n",
        "test_acc, cm = evaluate_test_and_confusion(model, test_loader, device)\n",
        "print('Test acc:', test_acc)\n",
        "plt.figure(figsize=(6,6)); plt.imshow(cm); plt.title('Confusion matrix'); plt.colorbar(); plt.show()"
      ],
      "metadata": {
        "id": "BGiQiNUFca-3",
        "colab": {
          "base_uri": "https://localhost:8080/",
          "height": 525
        },
        "outputId": "0305e8f8-c7b5-4f40-eb62-802136a3bf2b"
      },
      "execution_count": null,
      "outputs": [
        {
          "output_type": "stream",
          "name": "stderr",
          "text": []
        },
        {
          "output_type": "stream",
          "name": "stdout",
          "text": [
            "Test acc: 0.8281\n"
          ]
        },
        {
          "output_type": "display_data",
          "data": {
            "text/plain": [
              "<Figure size 600x600 with 2 Axes>"
            ],
            "image/png": "[encoded data removed]"
          },
          "metadata": {}
        }
      ]
    },
    {
      "cell_type": "code",
      "source": [
        "feats, labs = extract_features(model, test_loader, device, max_samples=1000)\n",
        "tsne = TSNE(n_components=2, random_state=CONFIG['seed'])\n",
        "proj = tsne.fit_transform(feats)\n",
        "plt.figure(figsize=(8,6))\n",
        "scatter = plt.scatter(proj[:,0], proj[:,1], c=labs, cmap='tab10', s=5)\n",
        "plt.legend(*scatter.legend_elements(), title='classes')\n",
        "plt.title('t-SNE of penultimate features')\n",
        "plt.show()\n"
      ],
      "metadata": {
        "id": "yKQWLpLoca1y",
        "colab": {
          "base_uri": "https://localhost:8080/",
          "height": 545
        },
        "outputId": "1c60d27b-949e-499e-ef0c-56fc9f099a7a"
      },
      "execution_count": null,
      "outputs": [
        {
          "output_type": "display_data",
          "data": {
            "text/plain": [
              "<Figure size 800x600 with 1 Axes>"
            ],
            "image/png": "[encoded data removed]"
          },
          "metadata": {}
        }
      ]
    },
    {
      "cell_type": "code",
      "source": [
        "fractions = [0.1, 0.25, 0.5, 1.0]\n",
        "results = {}\n",
        "\n",
        "for frac in fractions:\n",
        "    print(f\"\\n--- Training with {int(frac*100)}% of CIFAR-10 ---\")\n",
        "\n",
        "    # Subsample the training dataset\n",
        "    subset_size = int(len(trainset) * frac)\n",
        "    subset_indices = torch.randperm(len(trainset))[:subset_size]\n",
        "    subset = torch.utils.data.Subset(trainset, subset_indices)\n",
        "    subset_loader = torch.utils.data.DataLoader(\n",
        "        subset, batch_size=CONFIG['batch_size'], shuffle=True, num_workers=2\n",
        "    )\n",
        "\n",
        "    # Train ResNet\n",
        "    hist_res = run_training(resnet20(), subset_loader, val_loader, CONFIG,\n",
        "                            model_name=f'resnet20_frac{int(frac*100)}')\n",
        "    ckpt_res = torch.load(os.path.join(CONFIG['save_dir'], f'resnet20_frac{int(frac*100)}_best.pth'),\n",
        "                          map_location=device)\n",
        "    model_res = resnet20().to(device)\n",
        "    model_res.load_state_dict(ckpt_res)\n",
        "    acc_res, _ = evaluate_test_and_confusion(model_res, test_loader, device)\n",
        "\n",
        "    # Train PlainNet\n",
        "    hist_plain = run_training(plain20(), subset_loader, val_loader, CONFIG,\n",
        "                              model_name=f'plain20_frac{int(frac*100)}')\n",
        "    ckpt_plain = torch.load(os.path.join(CONFIG['save_dir'], f'plain20_frac{int(frac*100)}_best.pth'),\n",
        "                            map_location=device)\n",
        "    model_plain = plain20().to(device)\n",
        "    model_plain.load_state_dict(ckpt_plain)\n",
        "    acc_plain, _ = evaluate_test_and_confusion(model_plain, test_loader, device)\n",
        "\n",
        "    results[frac] = (acc_res, acc_plain)\n",
        "\n",
        "# Plot results\n",
        "fractions_percent = [int(f*100) for f in results.keys()]\n",
        "res_accs = [v[0] for v in results.values()]\n",
        "plain_accs = [v[1] for v in results.values()]\n",
        "\n",
        "plt.figure(figsize=(8,6))\n",
        "plt.plot(fractions_percent, res_accs, '-o', label='ResNet20')\n",
        "plt.plot(fractions_percent, plain_accs, '-o', label='PlainNet20')\n",
        "plt.xlabel(\"Training data used (%)\")\n",
        "plt.ylabel(\"Test Accuracy (%)\")\n",
        "plt.title(\"Data Efficiency: Accuracy vs. % of Training Data\")\n",
        "plt.legend()\n",
        "plt.grid(True)\n",
        "plt.show()"
      ],
      "metadata": {
        "colab": {
          "base_uri": "https://localhost:8080/",
          "height": 1000
        },
        "id": "B6bgwsFnzvW5",
        "outputId": "6a1a9ee1-c377-4fec-b714-0babf7e3cfbd"
      },
      "execution_count": null,
      "outputs": [
        {
          "output_type": "stream",
          "name": "stdout",
          "text": [
            "\n",
            "--- Training with 10% of CIFAR-10 ---\n",
            "Epoch 1/25\n"
          ]
        },
        {
          "output_type": "stream",
          "name": "stderr",
          "text": []
        },
        {
          "output_type": "stream",
          "name": "stdout",
          "text": [
            "Train Loss: 2.6690, Train Acc: 0.1742\n",
            "Val Loss: 4.2998, Val Acc: 0.1566\n",
            "Epoch 2/25\n"
          ]
        },
        {
          "output_type": "stream",
          "name": "stderr",
          "text": []
        },
        {
          "output_type": "stream",
          "name": "stdout",
          "text": [
            "Train Loss: 2.1057, Train Acc: 0.2074\n",
            "Val Loss: 2.1458, Val Acc: 0.2102\n",
            "Epoch 3/25\n"
          ]
        },
        {
          "output_type": "stream",
          "name": "stderr",
          "text": []
        },
        {
          "output_type": "stream",
          "name": "stdout",
          "text": [
            "Train Loss: 1.9999, Train Acc: 0.2256\n",
            "Val Loss: 1.9883, Val Acc: 0.2080\n",
            "Epoch 4/25\n"
          ]
        },
        {
          "output_type": "stream",
          "name": "stderr",
          "text": []
        },
        {
          "output_type": "stream",
          "name": "stdout",
          "text": [
            "Train Loss: 1.9260, Train Acc: 0.2560\n",
            "Val Loss: 1.9241, Val Acc: 0.2460\n",
            "Epoch 5/25\n"
          ]
        },
        {
          "output_type": "stream",
          "name": "stderr",
          "text": []
        },
        {
          "output_type": "stream",
          "name": "stdout",
          "text": [
            "Train Loss: 1.8211, Train Acc: 0.2926\n",
            "Val Loss: 2.1503, Val Acc: 0.2264\n",
            "Epoch 6/25\n"
          ]
        },
        {
          "output_type": "stream",
          "name": "stderr",
          "text": []
        },
        {
          "output_type": "stream",
          "name": "stdout",
          "text": [
            "Train Loss: 1.8732, Train Acc: 0.2792\n",
            "Val Loss: 1.9815, Val Acc: 0.2682\n",
            "Epoch 7/25\n"
          ]
        },
        {
          "output_type": "stream",
          "name": "stderr",
          "text": []
        },
        {
          "output_type": "stream",
          "name": "stdout",
          "text": [
            "Train Loss: 1.8998, Train Acc: 0.2614\n",
            "Val Loss: 1.8454, Val Acc: 0.2830\n",
            "Epoch 8/25\n"
          ]
        },
        {
          "output_type": "stream",
          "name": "stderr",
          "text": []
        },
        {
          "output_type": "stream",
          "name": "stdout",
          "text": [
            "Train Loss: 1.8178, Train Acc: 0.2940\n",
            "Val Loss: 1.7523, Val Acc: 0.3282\n",
            "Epoch 9/25\n"
          ]
        },
        {
          "output_type": "stream",
          "name": "stderr",
          "text": []
        },
        {
          "output_type": "stream",
          "name": "stdout",
          "text": [
            "Train Loss: 1.7206, Train Acc: 0.3396\n",
            "Val Loss: 1.8899, Val Acc: 0.2908\n",
            "Epoch 10/25\n"
          ]
        },
        {
          "output_type": "stream",
          "name": "stderr",
          "text": []
        },
        {
          "output_type": "stream",
          "name": "stdout",
          "text": [
            "Train Loss: 1.7255, Train Acc: 0.3372\n",
            "Val Loss: 1.7379, Val Acc: 0.3396\n",
            "Epoch 11/25\n"
          ]
        },
        {
          "output_type": "stream",
          "name": "stderr",
          "text": []
        },
        {
          "output_type": "stream",
          "name": "stdout",
          "text": [
            "Train Loss: 1.6746, Train Acc: 0.3642\n",
            "Val Loss: 1.6669, Val Acc: 0.3772\n",
            "Epoch 12/25\n"
          ]
        },
        {
          "output_type": "stream",
          "name": "stderr",
          "text": []
        },
        {
          "output_type": "stream",
          "name": "stdout",
          "text": [
            "Train Loss: 1.6886, Train Acc: 0.3824\n",
            "Val Loss: 1.7057, Val Acc: 0.3618\n",
            "Epoch 13/25\n"
          ]
        },
        {
          "output_type": "stream",
          "name": "stderr",
          "text": []
        },
        {
          "output_type": "stream",
          "name": "stdout",
          "text": [
            "Train Loss: 1.6149, Train Acc: 0.3956\n",
            "Val Loss: 1.6011, Val Acc: 0.3976\n",
            "Epoch 14/25\n"
          ]
        },
        {
          "output_type": "stream",
          "name": "stderr",
          "text": []
        },
        {
          "output_type": "stream",
          "name": "stdout",
          "text": [
            "Train Loss: 1.5522, Train Acc: 0.4138\n",
            "Val Loss: 1.6952, Val Acc: 0.3658\n",
            "Epoch 15/25\n"
          ]
        },
        {
          "output_type": "stream",
          "name": "stderr",
          "text": []
        },
        {
          "output_type": "stream",
          "name": "stdout",
          "text": [
            "Train Loss: 1.5603, Train Acc: 0.4102\n",
            "Val Loss: 1.5647, Val Acc: 0.4194\n",
            "Epoch 16/25\n"
          ]
        },
        {
          "output_type": "stream",
          "name": "stderr",
          "text": []
        },
        {
          "output_type": "stream",
          "name": "stdout",
          "text": [
            "Train Loss: 1.5240, Train Acc: 0.4332\n",
            "Val Loss: 1.5883, Val Acc: 0.4172\n",
            "Epoch 17/25\n"
          ]
        },
        {
          "output_type": "stream",
          "name": "stderr",
          "text": []
        },
        {
          "output_type": "stream",
          "name": "stdout",
          "text": [
            "Train Loss: 1.4490, Train Acc: 0.4712\n",
            "Val Loss: 1.5208, Val Acc: 0.4480\n",
            "Epoch 18/25\n"
          ]
        },
        {
          "output_type": "stream",
          "name": "stderr",
          "text": []
        },
        {
          "output_type": "stream",
          "name": "stdout",
          "text": [
            "Train Loss: 1.4717, Train Acc: 0.4594\n",
            "Val Loss: 1.6455, Val Acc: 0.3984\n",
            "Epoch 19/25\n"
          ]
        },
        {
          "output_type": "stream",
          "name": "stderr",
          "text": []
        },
        {
          "output_type": "stream",
          "name": "stdout",
          "text": [
            "Train Loss: 1.5332, Train Acc: 0.4294\n",
            "Val Loss: 1.5482, Val Acc: 0.4266\n",
            "Epoch 20/25\n"
          ]
        },
        {
          "output_type": "stream",
          "name": "stderr",
          "text": []
        },
        {
          "output_type": "stream",
          "name": "stdout",
          "text": [
            "Train Loss: 1.4704, Train Acc: 0.4642\n",
            "Val Loss: 1.5858, Val Acc: 0.4192\n",
            "Epoch 21/25\n"
          ]
        },
        {
          "output_type": "stream",
          "name": "stderr",
          "text": []
        },
        {
          "output_type": "stream",
          "name": "stdout",
          "text": [
            "Train Loss: 1.4665, Train Acc: 0.4574\n",
            "Val Loss: 1.7778, Val Acc: 0.4064\n",
            "Epoch 22/25\n"
          ]
        },
        {
          "output_type": "stream",
          "name": "stderr",
          "text": []
        },
        {
          "output_type": "stream",
          "name": "stdout",
          "text": [
            "Train Loss: 1.3688, Train Acc: 0.4992\n",
            "Val Loss: 1.4494, Val Acc: 0.4798\n",
            "Epoch 23/25\n"
          ]
        },
        {
          "output_type": "stream",
          "name": "stderr",
          "text": []
        },
        {
          "output_type": "stream",
          "name": "stdout",
          "text": [
            "Train Loss: 1.2928, Train Acc: 0.5214\n",
            "Val Loss: 1.4491, Val Acc: 0.4740\n",
            "Epoch 24/25\n"
          ]
        },
        {
          "output_type": "stream",
          "name": "stderr",
          "text": []
        },
        {
          "output_type": "stream",
          "name": "stdout",
          "text": [
            "Train Loss: 1.4112, Train Acc: 0.4846\n",
            "Val Loss: 1.3479, Val Acc: 0.5170\n",
            "Epoch 25/25\n"
          ]
        },
        {
          "output_type": "stream",
          "name": "stderr",
          "text": []
        },
        {
          "output_type": "stream",
          "name": "stdout",
          "text": [
            "Train Loss: 1.2917, Train Acc: 0.5284\n",
            "Val Loss: 1.5653, Val Acc: 0.4586\n"
          ]
        },
        {
          "output_type": "stream",
          "name": "stderr",
          "text": []
        },
        {
          "output_type": "stream",
          "name": "stdout",
          "text": [
            "Epoch 1/25\n"
          ]
        },
        {
          "output_type": "stream",
          "name": "stderr",
          "text": []
        },
        {
          "output_type": "stream",
          "name": "stdout",
          "text": [
            "Train Loss: 2.1397, Train Acc: 0.1930\n",
            "Val Loss: 6.9894, Val Acc: 0.1910\n",
            "Epoch 2/25\n"
          ]
        },
        {
          "output_type": "stream",
          "name": "stderr",
          "text": []
        },
        {
          "output_type": "stream",
          "name": "stdout",
          "text": [
            "Train Loss: 1.9695, Train Acc: 0.2430\n",
            "Val Loss: 1.9343, Val Acc: 0.2712\n",
            "Epoch 3/25\n"
          ]
        },
        {
          "output_type": "stream",
          "name": "stderr",
          "text": []
        },
        {
          "output_type": "stream",
          "name": "stdout",
          "text": [
            "Train Loss: 1.8527, Train Acc: 0.2946\n",
            "Val Loss: 1.8533, Val Acc: 0.2890\n",
            "Epoch 4/25\n"
          ]
        },
        {
          "output_type": "stream",
          "name": "stderr",
          "text": []
        },
        {
          "output_type": "stream",
          "name": "stdout",
          "text": [
            "Train Loss: 1.7924, Train Acc: 0.3172\n",
            "Val Loss: 1.8013, Val Acc: 0.3148\n",
            "Epoch 5/25\n"
          ]
        },
        {
          "output_type": "stream",
          "name": "stderr",
          "text": []
        },
        {
          "output_type": "stream",
          "name": "stdout",
          "text": [
            "Train Loss: 1.7686, Train Acc: 0.3192\n",
            "Val Loss: 1.7905, Val Acc: 0.3190\n",
            "Epoch 6/25\n"
          ]
        },
        {
          "output_type": "stream",
          "name": "stderr",
          "text": []
        },
        {
          "output_type": "stream",
          "name": "stdout",
          "text": [
            "Train Loss: 1.7435, Train Acc: 0.3470\n",
            "Val Loss: 1.8995, Val Acc: 0.3008\n",
            "Epoch 7/25\n"
          ]
        },
        {
          "output_type": "stream",
          "name": "stderr",
          "text": []
        },
        {
          "output_type": "stream",
          "name": "stdout",
          "text": [
            "Train Loss: 1.6755, Train Acc: 0.3808\n",
            "Val Loss: 1.7106, Val Acc: 0.3680\n",
            "Epoch 8/25\n"
          ]
        },
        {
          "output_type": "stream",
          "name": "stderr",
          "text": []
        },
        {
          "output_type": "stream",
          "name": "stdout",
          "text": [
            "Train Loss: 1.6236, Train Acc: 0.3972\n",
            "Val Loss: 1.8312, Val Acc: 0.3388\n",
            "Epoch 9/25\n"
          ]
        },
        {
          "output_type": "stream",
          "name": "stderr",
          "text": []
        },
        {
          "output_type": "stream",
          "name": "stdout",
          "text": [
            "Train Loss: 1.6074, Train Acc: 0.3992\n",
            "Val Loss: 1.6015, Val Acc: 0.4276\n",
            "Epoch 10/25\n"
          ]
        },
        {
          "output_type": "stream",
          "name": "stderr",
          "text": []
        },
        {
          "output_type": "stream",
          "name": "stdout",
          "text": [
            "Train Loss: 1.5379, Train Acc: 0.4358\n",
            "Val Loss: 1.8007, Val Acc: 0.3368\n",
            "Epoch 11/25\n"
          ]
        },
        {
          "output_type": "stream",
          "name": "stderr",
          "text": []
        },
        {
          "output_type": "stream",
          "name": "stdout",
          "text": [
            "Train Loss: 1.5196, Train Acc: 0.4464\n",
            "Val Loss: 1.8018, Val Acc: 0.3610\n",
            "Epoch 12/25\n"
          ]
        },
        {
          "output_type": "stream",
          "name": "stderr",
          "text": []
        },
        {
          "output_type": "stream",
          "name": "stdout",
          "text": [
            "Train Loss: 1.4527, Train Acc: 0.4726\n",
            "Val Loss: 1.7446, Val Acc: 0.4164\n",
            "Epoch 13/25\n"
          ]
        },
        {
          "output_type": "stream",
          "name": "stderr",
          "text": []
        },
        {
          "output_type": "stream",
          "name": "stdout",
          "text": [
            "Train Loss: 1.4716, Train Acc: 0.4726\n",
            "Val Loss: 1.8657, Val Acc: 0.4002\n",
            "Epoch 14/25\n"
          ]
        },
        {
          "output_type": "stream",
          "name": "stderr",
          "text": []
        },
        {
          "output_type": "stream",
          "name": "stdout",
          "text": [
            "Train Loss: 1.4170, Train Acc: 0.4782\n",
            "Val Loss: 1.5964, Val Acc: 0.4352\n",
            "Epoch 15/25\n"
          ]
        },
        {
          "output_type": "stream",
          "name": "stderr",
          "text": []
        },
        {
          "output_type": "stream",
          "name": "stdout",
          "text": [
            "Train Loss: 1.3298, Train Acc: 0.5074\n",
            "Val Loss: 1.5698, Val Acc: 0.4450\n",
            "Epoch 16/25\n"
          ]
        },
        {
          "output_type": "stream",
          "name": "stderr",
          "text": []
        },
        {
          "output_type": "stream",
          "name": "stdout",
          "text": [
            "Train Loss: 1.3369, Train Acc: 0.5096\n",
            "Val Loss: 1.4691, Val Acc: 0.4796\n",
            "Epoch 17/25\n"
          ]
        },
        {
          "output_type": "stream",
          "name": "stderr",
          "text": []
        },
        {
          "output_type": "stream",
          "name": "stdout",
          "text": [
            "Train Loss: 1.2536, Train Acc: 0.5458\n",
            "Val Loss: 1.5041, Val Acc: 0.4590\n",
            "Epoch 18/25\n"
          ]
        },
        {
          "output_type": "stream",
          "name": "stderr",
          "text": []
        },
        {
          "output_type": "stream",
          "name": "stdout",
          "text": [
            "Train Loss: 1.2857, Train Acc: 0.5244\n",
            "Val Loss: 1.4587, Val Acc: 0.4834\n",
            "Epoch 19/25\n"
          ]
        },
        {
          "output_type": "stream",
          "name": "stderr",
          "text": []
        },
        {
          "output_type": "stream",
          "name": "stdout",
          "text": [
            "Train Loss: 1.1898, Train Acc: 0.5768\n",
            "Val Loss: 1.4601, Val Acc: 0.4764\n",
            "Epoch 20/25\n"
          ]
        },
        {
          "output_type": "stream",
          "name": "stderr",
          "text": []
        },
        {
          "output_type": "stream",
          "name": "stdout",
          "text": [
            "Train Loss: 1.1504, Train Acc: 0.5866\n",
            "Val Loss: 1.5065, Val Acc: 0.5020\n",
            "Epoch 21/25\n"
          ]
        },
        {
          "output_type": "stream",
          "name": "stderr",
          "text": []
        },
        {
          "output_type": "stream",
          "name": "stdout",
          "text": [
            "Train Loss: 1.1894, Train Acc: 0.5720\n",
            "Val Loss: 1.4488, Val Acc: 0.4916\n",
            "Epoch 22/25\n"
          ]
        },
        {
          "output_type": "stream",
          "name": "stderr",
          "text": []
        },
        {
          "output_type": "stream",
          "name": "stdout",
          "text": [
            "Train Loss: 1.1508, Train Acc: 0.5918\n",
            "Val Loss: 1.6346, Val Acc: 0.4638\n",
            "Epoch 23/25\n"
          ]
        },
        {
          "output_type": "stream",
          "name": "stderr",
          "text": []
        },
        {
          "output_type": "stream",
          "name": "stdout",
          "text": [
            "Train Loss: 1.1080, Train Acc: 0.6018\n",
            "Val Loss: 1.3030, Val Acc: 0.5336\n",
            "Epoch 24/25\n"
          ]
        },
        {
          "output_type": "stream",
          "name": "stderr",
          "text": []
        },
        {
          "output_type": "stream",
          "name": "stdout",
          "text": [
            "Train Loss: 1.1023, Train Acc: 0.6044\n",
            "Val Loss: 1.2878, Val Acc: 0.5338\n",
            "Epoch 25/25\n"
          ]
        },
        {
          "output_type": "stream",
          "name": "stderr",
          "text": []
        },
        {
          "output_type": "stream",
          "name": "stdout",
          "text": [
            "Train Loss: 1.0410, Train Acc: 0.6346\n",
            "Val Loss: 1.5412, Val Acc: 0.4856\n"
          ]
        },
        {
          "output_type": "stream",
          "name": "stderr",
          "text": []
        },
        {
          "output_type": "stream",
          "name": "stdout",
          "text": [
            "\n",
            "--- Training with 25% of CIFAR-10 ---\n",
            "Epoch 1/25\n"
          ]
        },
        {
          "output_type": "stream",
          "name": "stderr",
          "text": []
        },
        {
          "output_type": "stream",
          "name": "stdout",
          "text": [
            "Train Loss: 2.1104, Train Acc: 0.2467\n",
            "Val Loss: 1.8568, Val Acc: 0.2906\n",
            "Epoch 2/25\n"
          ]
        },
        {
          "output_type": "stream",
          "name": "stderr",
          "text": []
        },
        {
          "output_type": "stream",
          "name": "stdout",
          "text": [
            "Train Loss: 1.6998, Train Acc: 0.3526\n",
            "Val Loss: 1.7237, Val Acc: 0.3606\n",
            "Epoch 3/25\n"
          ]
        },
        {
          "output_type": "stream",
          "name": "stderr",
          "text": []
        },
        {
          "output_type": "stream",
          "name": "stdout",
          "text": [
            "Train Loss: 1.5418, Train Acc: 0.4198\n",
            "Val Loss: 1.5451, Val Acc: 0.4342\n",
            "Epoch 4/25\n"
          ]
        },
        {
          "output_type": "stream",
          "name": "stderr",
          "text": []
        },
        {
          "output_type": "stream",
          "name": "stdout",
          "text": [
            "Train Loss: 1.4225, Train Acc: 0.4742\n",
            "Val Loss: 1.3895, Val Acc: 0.5034\n",
            "Epoch 5/25\n"
          ]
        },
        {
          "output_type": "stream",
          "name": "stderr",
          "text": []
        },
        {
          "output_type": "stream",
          "name": "stdout",
          "text": [
            "Train Loss: 1.3136, Train Acc: 0.5135\n",
            "Val Loss: 1.5471, Val Acc: 0.4454\n",
            "Epoch 6/25\n"
          ]
        },
        {
          "output_type": "stream",
          "name": "stderr",
          "text": []
        },
        {
          "output_type": "stream",
          "name": "stdout",
          "text": [
            "Train Loss: 1.2226, Train Acc: 0.5558\n",
            "Val Loss: 1.5315, Val Acc: 0.4688\n",
            "Epoch 7/25\n"
          ]
        },
        {
          "output_type": "stream",
          "name": "stderr",
          "text": []
        },
        {
          "output_type": "stream",
          "name": "stdout",
          "text": [
            "Train Loss: 1.1028, Train Acc: 0.6030\n",
            "Val Loss: 1.3397, Val Acc: 0.5234\n",
            "Epoch 8/25\n"
          ]
        },
        {
          "output_type": "stream",
          "name": "stderr",
          "text": []
        },
        {
          "output_type": "stream",
          "name": "stdout",
          "text": [
            "Train Loss: 1.0358, Train Acc: 0.6309\n",
            "Val Loss: 1.1810, Val Acc: 0.5924\n",
            "Epoch 9/25\n"
          ]
        },
        {
          "output_type": "stream",
          "name": "stderr",
          "text": []
        },
        {
          "output_type": "stream",
          "name": "stdout",
          "text": [
            "Train Loss: 0.9716, Train Acc: 0.6508\n",
            "Val Loss: 1.2281, Val Acc: 0.5564\n",
            "Epoch 10/25\n"
          ]
        },
        {
          "output_type": "stream",
          "name": "stderr",
          "text": []
        },
        {
          "output_type": "stream",
          "name": "stdout",
          "text": [
            "Train Loss: 0.9085, Train Acc: 0.6755\n",
            "Val Loss: 1.0088, Val Acc: 0.6458\n",
            "Epoch 11/25\n"
          ]
        },
        {
          "output_type": "stream",
          "name": "stderr",
          "text": []
        },
        {
          "output_type": "stream",
          "name": "stdout",
          "text": [
            "Train Loss: 0.8587, Train Acc: 0.6962\n",
            "Val Loss: 1.5309, Val Acc: 0.5306\n",
            "Epoch 12/25\n"
          ]
        },
        {
          "output_type": "stream",
          "name": "stderr",
          "text": []
        },
        {
          "output_type": "stream",
          "name": "stdout",
          "text": [
            "Train Loss: 0.8115, Train Acc: 0.7120\n",
            "Val Loss: 1.1918, Val Acc: 0.5914\n",
            "Epoch 13/25\n"
          ]
        },
        {
          "output_type": "stream",
          "name": "stderr",
          "text": []
        },
        {
          "output_type": "stream",
          "name": "stdout",
          "text": [
            "Train Loss: 0.7726, Train Acc: 0.7257\n",
            "Val Loss: 0.8247, Val Acc: 0.7108\n",
            "Epoch 14/25\n"
          ]
        },
        {
          "output_type": "stream",
          "name": "stderr",
          "text": []
        },
        {
          "output_type": "stream",
          "name": "stdout",
          "text": [
            "Train Loss: 0.7108, Train Acc: 0.7506\n",
            "Val Loss: 1.0564, Val Acc: 0.6474\n",
            "Epoch 15/25\n"
          ]
        },
        {
          "output_type": "stream",
          "name": "stderr",
          "text": []
        },
        {
          "output_type": "stream",
          "name": "stdout",
          "text": [
            "Train Loss: 0.6796, Train Acc: 0.7594\n",
            "Val Loss: 0.8164, Val Acc: 0.7302\n",
            "Epoch 16/25\n"
          ]
        },
        {
          "output_type": "stream",
          "name": "stderr",
          "text": []
        },
        {
          "output_type": "stream",
          "name": "stdout",
          "text": [
            "Train Loss: 0.6452, Train Acc: 0.7747\n",
            "Val Loss: 0.9833, Val Acc: 0.6710\n",
            "Epoch 17/25\n"
          ]
        },
        {
          "output_type": "stream",
          "name": "stderr",
          "text": []
        },
        {
          "output_type": "stream",
          "name": "stdout",
          "text": [
            "Train Loss: 0.5973, Train Acc: 0.7882\n",
            "Val Loss: 1.0305, Val Acc: 0.6762\n",
            "Epoch 18/25\n"
          ]
        },
        {
          "output_type": "stream",
          "name": "stderr",
          "text": []
        },
        {
          "output_type": "stream",
          "name": "stdout",
          "text": [
            "Train Loss: 0.5939, Train Acc: 0.7978\n",
            "Val Loss: 0.7740, Val Acc: 0.7358\n",
            "Epoch 19/25\n"
          ]
        },
        {
          "output_type": "stream",
          "name": "stderr",
          "text": []
        },
        {
          "output_type": "stream",
          "name": "stdout",
          "text": [
            "Train Loss: 0.5502, Train Acc: 0.8127\n",
            "Val Loss: 0.8267, Val Acc: 0.7192\n",
            "Epoch 20/25\n"
          ]
        },
        {
          "output_type": "stream",
          "name": "stderr",
          "text": []
        },
        {
          "output_type": "stream",
          "name": "stdout",
          "text": [
            "Train Loss: 0.5161, Train Acc: 0.8220\n",
            "Val Loss: 0.9083, Val Acc: 0.7066\n",
            "Epoch 21/25\n"
          ]
        },
        {
          "output_type": "stream",
          "name": "stderr",
          "text": []
        },
        {
          "output_type": "stream",
          "name": "stdout",
          "text": [
            "Train Loss: 0.5173, Train Acc: 0.8178\n",
            "Val Loss: 0.7130, Val Acc: 0.7568\n",
            "Epoch 22/25\n"
          ]
        },
        {
          "output_type": "stream",
          "name": "stderr",
          "text": []
        },
        {
          "output_type": "stream",
          "name": "stdout",
          "text": [
            "Train Loss: 0.4914, Train Acc: 0.8310\n",
            "Val Loss: 0.7320, Val Acc: 0.7540\n",
            "Epoch 23/25\n"
          ]
        },
        {
          "output_type": "stream",
          "name": "stderr",
          "text": []
        },
        {
          "output_type": "stream",
          "name": "stdout",
          "text": [
            "Train Loss: 0.4835, Train Acc: 0.8334\n",
            "Val Loss: 0.7574, Val Acc: 0.7448\n",
            "Epoch 24/25\n"
          ]
        },
        {
          "output_type": "stream",
          "name": "stderr",
          "text": []
        },
        {
          "output_type": "stream",
          "name": "stdout",
          "text": [
            "Train Loss: 0.4607, Train Acc: 0.8430\n",
            "Val Loss: 0.7268, Val Acc: 0.7580\n",
            "Epoch 25/25\n"
          ]
        },
        {
          "output_type": "stream",
          "name": "stderr",
          "text": []
        },
        {
          "output_type": "stream",
          "name": "stdout",
          "text": [
            "Train Loss: 0.4459, Train Acc: 0.8454\n",
            "Val Loss: 0.7876, Val Acc: 0.7452\n"
          ]
        },
        {
          "output_type": "stream",
          "name": "stderr",
          "text": []
        },
        {
          "output_type": "stream",
          "name": "stdout",
          "text": [
            "Epoch 1/25\n"
          ]
        },
        {
          "output_type": "stream",
          "name": "stderr",
          "text": []
        },
        {
          "output_type": "stream",
          "name": "stdout",
          "text": [
            "Train Loss: 1.9787, Train Acc: 0.2569\n",
            "Val Loss: 1.9046, Val Acc: 0.2788\n",
            "Epoch 2/25\n"
          ]
        },
        {
          "output_type": "stream",
          "name": "stderr",
          "text": []
        },
        {
          "output_type": "stream",
          "name": "stdout",
          "text": [
            "Train Loss: 1.7413, Train Acc: 0.3404\n",
            "Val Loss: 1.8141, Val Acc: 0.3266\n",
            "Epoch 3/25\n"
          ]
        },
        {
          "output_type": "stream",
          "name": "stderr",
          "text": []
        },
        {
          "output_type": "stream",
          "name": "stdout",
          "text": [
            "Train Loss: 1.6614, Train Acc: 0.3786\n",
            "Val Loss: 1.7256, Val Acc: 0.3632\n",
            "Epoch 4/25\n"
          ]
        },
        {
          "output_type": "stream",
          "name": "stderr",
          "text": []
        },
        {
          "output_type": "stream",
          "name": "stdout",
          "text": [
            "Train Loss: 1.5375, Train Acc: 0.4272\n",
            "Val Loss: 1.7485, Val Acc: 0.3428\n",
            "Epoch 5/25\n"
          ]
        },
        {
          "output_type": "stream",
          "name": "stderr",
          "text": []
        },
        {
          "output_type": "stream",
          "name": "stdout",
          "text": [
            "Train Loss: 1.4388, Train Acc: 0.4646\n",
            "Val Loss: 1.6020, Val Acc: 0.4278\n",
            "Epoch 6/25\n"
          ]
        },
        {
          "output_type": "stream",
          "name": "stderr",
          "text": []
        },
        {
          "output_type": "stream",
          "name": "stdout",
          "text": [
            "Train Loss: 1.3236, Train Acc: 0.5161\n",
            "Val Loss: 1.3585, Val Acc: 0.5004\n",
            "Epoch 7/25\n"
          ]
        },
        {
          "output_type": "stream",
          "name": "stderr",
          "text": []
        },
        {
          "output_type": "stream",
          "name": "stdout",
          "text": [
            "Train Loss: 1.1873, Train Acc: 0.5645\n",
            "Val Loss: 1.5773, Val Acc: 0.4688\n",
            "Epoch 8/25\n"
          ]
        },
        {
          "output_type": "stream",
          "name": "stderr",
          "text": []
        },
        {
          "output_type": "stream",
          "name": "stdout",
          "text": [
            "Train Loss: 1.0848, Train Acc: 0.6112\n",
            "Val Loss: 1.3356, Val Acc: 0.5266\n",
            "Epoch 9/25\n"
          ]
        },
        {
          "output_type": "stream",
          "name": "stderr",
          "text": []
        },
        {
          "output_type": "stream",
          "name": "stdout",
          "text": [
            "Train Loss: 1.0100, Train Acc: 0.6410\n",
            "Val Loss: 1.2980, Val Acc: 0.5584\n",
            "Epoch 10/25\n"
          ]
        },
        {
          "output_type": "stream",
          "name": "stderr",
          "text": []
        },
        {
          "output_type": "stream",
          "name": "stdout",
          "text": [
            "Train Loss: 0.9414, Train Acc: 0.6708\n",
            "Val Loss: 1.0412, Val Acc: 0.6296\n",
            "Epoch 11/25\n"
          ]
        },
        {
          "output_type": "stream",
          "name": "stderr",
          "text": []
        },
        {
          "output_type": "stream",
          "name": "stdout",
          "text": [
            "Train Loss: 0.8811, Train Acc: 0.6903\n",
            "Val Loss: 1.2852, Val Acc: 0.5780\n",
            "Epoch 12/25\n"
          ]
        },
        {
          "output_type": "stream",
          "name": "stderr",
          "text": []
        },
        {
          "output_type": "stream",
          "name": "stdout",
          "text": [
            "Train Loss: 0.8322, Train Acc: 0.7082\n",
            "Val Loss: 1.0023, Val Acc: 0.6572\n",
            "Epoch 13/25\n"
          ]
        },
        {
          "output_type": "stream",
          "name": "stderr",
          "text": []
        },
        {
          "output_type": "stream",
          "name": "stdout",
          "text": [
            "Train Loss: 0.7971, Train Acc: 0.7233\n",
            "Val Loss: 0.9363, Val Acc: 0.6760\n",
            "Epoch 14/25\n"
          ]
        },
        {
          "output_type": "stream",
          "name": "stderr",
          "text": []
        },
        {
          "output_type": "stream",
          "name": "stdout",
          "text": [
            "Train Loss: 0.7537, Train Acc: 0.7351\n",
            "Val Loss: 0.9105, Val Acc: 0.6784\n",
            "Epoch 15/25\n"
          ]
        },
        {
          "output_type": "stream",
          "name": "stderr",
          "text": []
        },
        {
          "output_type": "stream",
          "name": "stdout",
          "text": [
            "Train Loss: 0.7150, Train Acc: 0.7505\n",
            "Val Loss: 0.9983, Val Acc: 0.6692\n",
            "Epoch 16/25\n"
          ]
        },
        {
          "output_type": "stream",
          "name": "stderr",
          "text": []
        },
        {
          "output_type": "stream",
          "name": "stdout",
          "text": [
            "Train Loss: 0.6834, Train Acc: 0.7661\n",
            "Val Loss: 0.8807, Val Acc: 0.7076\n",
            "Epoch 17/25\n"
          ]
        },
        {
          "output_type": "stream",
          "name": "stderr",
          "text": []
        },
        {
          "output_type": "stream",
          "name": "stdout",
          "text": [
            "Train Loss: 0.6717, Train Acc: 0.7685\n",
            "Val Loss: 0.8446, Val Acc: 0.7014\n",
            "Epoch 18/25\n"
          ]
        },
        {
          "output_type": "stream",
          "name": "stderr",
          "text": []
        },
        {
          "output_type": "stream",
          "name": "stdout",
          "text": [
            "Train Loss: 0.6384, Train Acc: 0.7818\n",
            "Val Loss: 0.7942, Val Acc: 0.7264\n",
            "Epoch 19/25\n"
          ]
        },
        {
          "output_type": "stream",
          "name": "stderr",
          "text": []
        },
        {
          "output_type": "stream",
          "name": "stdout",
          "text": [
            "Train Loss: 0.6212, Train Acc: 0.7821\n",
            "Val Loss: 0.8873, Val Acc: 0.6956\n",
            "Epoch 20/25\n"
          ]
        },
        {
          "output_type": "stream",
          "name": "stderr",
          "text": []
        },
        {
          "output_type": "stream",
          "name": "stdout",
          "text": [
            "Train Loss: 0.5998, Train Acc: 0.7957\n",
            "Val Loss: 0.8259, Val Acc: 0.7182\n",
            "Epoch 21/25\n"
          ]
        },
        {
          "output_type": "stream",
          "name": "stderr",
          "text": []
        },
        {
          "output_type": "stream",
          "name": "stdout",
          "text": [
            "Train Loss: 0.5749, Train Acc: 0.7982\n",
            "Val Loss: 0.8857, Val Acc: 0.6914\n",
            "Epoch 22/25\n"
          ]
        },
        {
          "output_type": "stream",
          "name": "stderr",
          "text": []
        },
        {
          "output_type": "stream",
          "name": "stdout",
          "text": [
            "Train Loss: 0.5579, Train Acc: 0.8076\n",
            "Val Loss: 0.8983, Val Acc: 0.6894\n",
            "Epoch 23/25\n"
          ]
        },
        {
          "output_type": "stream",
          "name": "stderr",
          "text": []
        },
        {
          "output_type": "stream",
          "name": "stdout",
          "text": [
            "Train Loss: 0.5462, Train Acc: 0.8141\n",
            "Val Loss: 0.9608, Val Acc: 0.6824\n",
            "Epoch 24/25\n"
          ]
        },
        {
          "output_type": "stream",
          "name": "stderr",
          "text": []
        },
        {
          "output_type": "stream",
          "name": "stdout",
          "text": [
            "Train Loss: 0.5440, Train Acc: 0.8154\n",
            "Val Loss: 1.1645, Val Acc: 0.6418\n",
            "Epoch 25/25\n"
          ]
        },
        {
          "output_type": "stream",
          "name": "stderr",
          "text": []
        },
        {
          "output_type": "stream",
          "name": "stdout",
          "text": [
            "Train Loss: 0.5356, Train Acc: 0.8142\n",
            "Val Loss: 0.7614, Val Acc: 0.7480\n"
          ]
        },
        {
          "output_type": "stream",
          "name": "stderr",
          "text": []
        },
        {
          "output_type": "stream",
          "name": "stdout",
          "text": [
            "\n",
            "--- Training with 50% of CIFAR-10 ---\n",
            "Epoch 1/25\n"
          ]
        },
        {
          "output_type": "stream",
          "name": "stderr",
          "text": []
        },
        {
          "output_type": "stream",
          "name": "stdout",
          "text": [
            "Train Loss: 2.0194, Train Acc: 0.2675\n",
            "Val Loss: 1.7624, Val Acc: 0.3418\n",
            "Epoch 2/25\n"
          ]
        },
        {
          "output_type": "stream",
          "name": "stderr",
          "text": []
        },
        {
          "output_type": "stream",
          "name": "stdout",
          "text": [
            "Train Loss: 1.5971, Train Acc: 0.4041\n",
            "Val Loss: 1.6125, Val Acc: 0.4120\n",
            "Epoch 3/25\n"
          ]
        },
        {
          "output_type": "stream",
          "name": "stderr",
          "text": []
        },
        {
          "output_type": "stream",
          "name": "stdout",
          "text": [
            "Train Loss: 1.3879, Train Acc: 0.4912\n",
            "Val Loss: 1.4356, Val Acc: 0.4908\n",
            "Epoch 4/25\n"
          ]
        },
        {
          "output_type": "stream",
          "name": "stderr",
          "text": []
        },
        {
          "output_type": "stream",
          "name": "stdout",
          "text": [
            "Train Loss: 1.2379, Train Acc: 0.5518\n",
            "Val Loss: 1.2436, Val Acc: 0.5608\n",
            "Epoch 5/25\n"
          ]
        },
        {
          "output_type": "stream",
          "name": "stderr",
          "text": []
        },
        {
          "output_type": "stream",
          "name": "stdout",
          "text": [
            "Train Loss: 1.0620, Train Acc: 0.6190\n",
            "Val Loss: 1.1360, Val Acc: 0.5944\n",
            "Epoch 6/25\n"
          ]
        },
        {
          "output_type": "stream",
          "name": "stderr",
          "text": []
        },
        {
          "output_type": "stream",
          "name": "stdout",
          "text": [
            "Train Loss: 0.9388, Train Acc: 0.6659\n",
            "Val Loss: 0.9979, Val Acc: 0.6498\n",
            "Epoch 7/25\n"
          ]
        },
        {
          "output_type": "stream",
          "name": "stderr",
          "text": []
        },
        {
          "output_type": "stream",
          "name": "stdout",
          "text": [
            "Train Loss: 0.8560, Train Acc: 0.6958\n",
            "Val Loss: 1.0702, Val Acc: 0.6308\n",
            "Epoch 8/25\n"
          ]
        },
        {
          "output_type": "stream",
          "name": "stderr",
          "text": []
        },
        {
          "output_type": "stream",
          "name": "stdout",
          "text": [
            "Train Loss: 0.7587, Train Acc: 0.7366\n",
            "Val Loss: 0.8479, Val Acc: 0.7036\n",
            "Epoch 9/25\n"
          ]
        },
        {
          "output_type": "stream",
          "name": "stderr",
          "text": []
        },
        {
          "output_type": "stream",
          "name": "stdout",
          "text": [
            "Train Loss: 0.6815, Train Acc: 0.7641\n",
            "Val Loss: 0.8641, Val Acc: 0.7002\n",
            "Epoch 10/25\n"
          ]
        },
        {
          "output_type": "stream",
          "name": "stderr",
          "text": []
        },
        {
          "output_type": "stream",
          "name": "stdout",
          "text": [
            "Train Loss: 0.6317, Train Acc: 0.7794\n",
            "Val Loss: 0.8049, Val Acc: 0.7196\n",
            "Epoch 11/25\n"
          ]
        },
        {
          "output_type": "stream",
          "name": "stderr",
          "text": []
        },
        {
          "output_type": "stream",
          "name": "stdout",
          "text": [
            "Train Loss: 0.5863, Train Acc: 0.7972\n",
            "Val Loss: 0.8477, Val Acc: 0.7120\n",
            "Epoch 12/25\n"
          ]
        },
        {
          "output_type": "stream",
          "name": "stderr",
          "text": []
        },
        {
          "output_type": "stream",
          "name": "stdout",
          "text": [
            "Train Loss: 0.5548, Train Acc: 0.8084\n",
            "Val Loss: 0.6153, Val Acc: 0.7908\n",
            "Epoch 13/25\n"
          ]
        },
        {
          "output_type": "stream",
          "name": "stderr",
          "text": []
        },
        {
          "output_type": "stream",
          "name": "stdout",
          "text": [
            "Train Loss: 0.5293, Train Acc: 0.8161\n",
            "Val Loss: 0.7762, Val Acc: 0.7382\n",
            "Epoch 14/25\n"
          ]
        },
        {
          "output_type": "stream",
          "name": "stderr",
          "text": []
        },
        {
          "output_type": "stream",
          "name": "stdout",
          "text": [
            "Train Loss: 0.4966, Train Acc: 0.8296\n",
            "Val Loss: 0.7200, Val Acc: 0.7626\n",
            "Epoch 15/25\n"
          ]
        },
        {
          "output_type": "stream",
          "name": "stderr",
          "text": []
        },
        {
          "output_type": "stream",
          "name": "stdout",
          "text": [
            "Train Loss: 0.4741, Train Acc: 0.8358\n",
            "Val Loss: 0.5917, Val Acc: 0.7966\n",
            "Epoch 16/25\n"
          ]
        },
        {
          "output_type": "stream",
          "name": "stderr",
          "text": []
        },
        {
          "output_type": "stream",
          "name": "stdout",
          "text": [
            "Train Loss: 0.4662, Train Acc: 0.8402\n",
            "Val Loss: 0.6914, Val Acc: 0.7626\n",
            "Epoch 17/25\n"
          ]
        },
        {
          "output_type": "stream",
          "name": "stderr",
          "text": []
        },
        {
          "output_type": "stream",
          "name": "stdout",
          "text": [
            "Train Loss: 0.4574, Train Acc: 0.8458\n",
            "Val Loss: 0.5603, Val Acc: 0.8038\n",
            "Epoch 18/25\n"
          ]
        },
        {
          "output_type": "stream",
          "name": "stderr",
          "text": []
        },
        {
          "output_type": "stream",
          "name": "stdout",
          "text": [
            "Train Loss: 0.4400, Train Acc: 0.8481\n",
            "Val Loss: 0.7098, Val Acc: 0.7688\n",
            "Epoch 19/25\n"
          ]
        },
        {
          "output_type": "stream",
          "name": "stderr",
          "text": []
        },
        {
          "output_type": "stream",
          "name": "stdout",
          "text": [
            "Train Loss: 0.4255, Train Acc: 0.8520\n",
            "Val Loss: 0.7068, Val Acc: 0.7672\n",
            "Epoch 20/25\n"
          ]
        },
        {
          "output_type": "stream",
          "name": "stderr",
          "text": []
        },
        {
          "output_type": "stream",
          "name": "stdout",
          "text": [
            "Train Loss: 0.4116, Train Acc: 0.8587\n",
            "Val Loss: 0.8458, Val Acc: 0.7182\n",
            "Epoch 21/25\n"
          ]
        },
        {
          "output_type": "stream",
          "name": "stderr",
          "text": []
        },
        {
          "output_type": "stream",
          "name": "stdout",
          "text": [
            "Train Loss: 0.4086, Train Acc: 0.8596\n",
            "Val Loss: 0.5785, Val Acc: 0.8076\n",
            "Epoch 22/25\n"
          ]
        },
        {
          "output_type": "stream",
          "name": "stderr",
          "text": []
        },
        {
          "output_type": "stream",
          "name": "stdout",
          "text": [
            "Train Loss: 0.3894, Train Acc: 0.8636\n",
            "Val Loss: 0.5013, Val Acc: 0.8320\n",
            "Epoch 23/25\n"
          ]
        },
        {
          "output_type": "stream",
          "name": "stderr",
          "text": []
        },
        {
          "output_type": "stream",
          "name": "stdout",
          "text": [
            "Train Loss: 0.3851, Train Acc: 0.8667\n",
            "Val Loss: 0.5831, Val Acc: 0.7998\n",
            "Epoch 24/25\n"
          ]
        },
        {
          "output_type": "stream",
          "name": "stderr",
          "text": []
        },
        {
          "output_type": "stream",
          "name": "stdout",
          "text": [
            "Train Loss: 0.3823, Train Acc: 0.8678\n",
            "Val Loss: 0.5617, Val Acc: 0.8032\n",
            "Epoch 25/25\n"
          ]
        },
        {
          "output_type": "stream",
          "name": "stderr",
          "text": []
        },
        {
          "output_type": "stream",
          "name": "stdout",
          "text": [
            "Train Loss: 0.3737, Train Acc: 0.8714\n",
            "Val Loss: 0.6811, Val Acc: 0.7742\n"
          ]
        },
        {
          "output_type": "stream",
          "name": "stderr",
          "text": []
        },
        {
          "output_type": "stream",
          "name": "stdout",
          "text": [
            "Epoch 1/25\n"
          ]
        },
        {
          "output_type": "stream",
          "name": "stderr",
          "text": []
        },
        {
          "output_type": "stream",
          "name": "stdout",
          "text": [
            "Train Loss: 1.8775, Train Acc: 0.2936\n",
            "Val Loss: 1.7949, Val Acc: 0.3348\n",
            "Epoch 2/25\n"
          ]
        },
        {
          "output_type": "stream",
          "name": "stderr",
          "text": []
        },
        {
          "output_type": "stream",
          "name": "stdout",
          "text": [
            "Train Loss: 1.5700, Train Acc: 0.4149\n",
            "Val Loss: 1.7597, Val Acc: 0.4024\n",
            "Epoch 3/25\n"
          ]
        },
        {
          "output_type": "stream",
          "name": "stderr",
          "text": []
        },
        {
          "output_type": "stream",
          "name": "stdout",
          "text": [
            "Train Loss: 1.3524, Train Acc: 0.5042\n",
            "Val Loss: 1.3903, Val Acc: 0.4926\n",
            "Epoch 4/25\n"
          ]
        },
        {
          "output_type": "stream",
          "name": "stderr",
          "text": []
        },
        {
          "output_type": "stream",
          "name": "stdout",
          "text": [
            "Train Loss: 1.1600, Train Acc: 0.5802\n",
            "Val Loss: 1.1112, Val Acc: 0.5994\n",
            "Epoch 5/25\n"
          ]
        },
        {
          "output_type": "stream",
          "name": "stderr",
          "text": []
        },
        {
          "output_type": "stream",
          "name": "stdout",
          "text": [
            "Train Loss: 1.0415, Train Acc: 0.6264\n",
            "Val Loss: 1.2840, Val Acc: 0.5596\n",
            "Epoch 6/25\n"
          ]
        },
        {
          "output_type": "stream",
          "name": "stderr",
          "text": []
        },
        {
          "output_type": "stream",
          "name": "stdout",
          "text": [
            "Train Loss: 0.9369, Train Acc: 0.6664\n",
            "Val Loss: 0.9746, Val Acc: 0.6514\n",
            "Epoch 7/25\n"
          ]
        },
        {
          "output_type": "stream",
          "name": "stderr",
          "text": []
        },
        {
          "output_type": "stream",
          "name": "stdout",
          "text": [
            "Train Loss: 0.8546, Train Acc: 0.6999\n",
            "Val Loss: 1.1137, Val Acc: 0.6192\n",
            "Epoch 8/25\n"
          ]
        },
        {
          "output_type": "stream",
          "name": "stderr",
          "text": []
        },
        {
          "output_type": "stream",
          "name": "stdout",
          "text": [
            "Train Loss: 0.8060, Train Acc: 0.7197\n",
            "Val Loss: 1.2279, Val Acc: 0.5668\n",
            "Epoch 9/25\n"
          ]
        },
        {
          "output_type": "stream",
          "name": "stderr",
          "text": []
        },
        {
          "output_type": "stream",
          "name": "stdout",
          "text": [
            "Train Loss: 0.7433, Train Acc: 0.7442\n",
            "Val Loss: 1.0291, Val Acc: 0.6440\n",
            "Epoch 10/25\n"
          ]
        },
        {
          "output_type": "stream",
          "name": "stderr",
          "text": []
        },
        {
          "output_type": "stream",
          "name": "stdout",
          "text": [
            "Train Loss: 0.7078, Train Acc: 0.7588\n",
            "Val Loss: 0.9899, Val Acc: 0.6764\n",
            "Epoch 11/25\n"
          ]
        },
        {
          "output_type": "stream",
          "name": "stderr",
          "text": []
        },
        {
          "output_type": "stream",
          "name": "stdout",
          "text": [
            "Train Loss: 0.6824, Train Acc: 0.7664\n",
            "Val Loss: 0.9726, Val Acc: 0.6758\n",
            "Epoch 12/25\n"
          ]
        },
        {
          "output_type": "stream",
          "name": "stderr",
          "text": []
        },
        {
          "output_type": "stream",
          "name": "stdout",
          "text": [
            "Train Loss: 0.6435, Train Acc: 0.7778\n",
            "Val Loss: 0.7223, Val Acc: 0.7464\n",
            "Epoch 13/25\n"
          ]
        },
        {
          "output_type": "stream",
          "name": "stderr",
          "text": []
        },
        {
          "output_type": "stream",
          "name": "stdout",
          "text": [
            "Train Loss: 0.6298, Train Acc: 0.7818\n",
            "Val Loss: 0.8850, Val Acc: 0.6974\n",
            "Epoch 14/25\n"
          ]
        },
        {
          "output_type": "stream",
          "name": "stderr",
          "text": []
        },
        {
          "output_type": "stream",
          "name": "stdout",
          "text": [
            "Train Loss: 0.5897, Train Acc: 0.7959\n",
            "Val Loss: 0.9371, Val Acc: 0.6848\n",
            "Epoch 15/25\n"
          ]
        },
        {
          "output_type": "stream",
          "name": "stderr",
          "text": []
        },
        {
          "output_type": "stream",
          "name": "stdout",
          "text": [
            "Train Loss: 0.5985, Train Acc: 0.7962\n",
            "Val Loss: 1.6757, Val Acc: 0.5322\n",
            "Epoch 16/25\n"
          ]
        },
        {
          "output_type": "stream",
          "name": "stderr",
          "text": []
        },
        {
          "output_type": "stream",
          "name": "stdout",
          "text": [
            "Train Loss: 0.5785, Train Acc: 0.8025\n",
            "Val Loss: 0.9149, Val Acc: 0.7070\n",
            "Epoch 17/25\n"
          ]
        },
        {
          "output_type": "stream",
          "name": "stderr",
          "text": []
        },
        {
          "output_type": "stream",
          "name": "stdout",
          "text": [
            "Train Loss: 0.5706, Train Acc: 0.8046\n",
            "Val Loss: 0.6980, Val Acc: 0.7542\n",
            "Epoch 18/25\n"
          ]
        },
        {
          "output_type": "stream",
          "name": "stderr",
          "text": []
        },
        {
          "output_type": "stream",
          "name": "stdout",
          "text": [
            "Train Loss: 0.5451, Train Acc: 0.8160\n",
            "Val Loss: 0.8883, Val Acc: 0.6960\n",
            "Epoch 19/25\n"
          ]
        },
        {
          "output_type": "stream",
          "name": "stderr",
          "text": []
        },
        {
          "output_type": "stream",
          "name": "stdout",
          "text": [
            "Train Loss: 0.5444, Train Acc: 0.8148\n",
            "Val Loss: 0.8066, Val Acc: 0.7244\n",
            "Epoch 20/25\n"
          ]
        },
        {
          "output_type": "stream",
          "name": "stderr",
          "text": []
        },
        {
          "output_type": "stream",
          "name": "stdout",
          "text": [
            "Train Loss: 0.5314, Train Acc: 0.8184\n",
            "Val Loss: 0.7439, Val Acc: 0.7558\n",
            "Epoch 21/25\n"
          ]
        },
        {
          "output_type": "stream",
          "name": "stderr",
          "text": []
        },
        {
          "output_type": "stream",
          "name": "stdout",
          "text": [
            "Train Loss: 0.5285, Train Acc: 0.8182\n",
            "Val Loss: 0.8354, Val Acc: 0.7250\n",
            "Epoch 22/25\n"
          ]
        },
        {
          "output_type": "stream",
          "name": "stderr",
          "text": []
        },
        {
          "output_type": "stream",
          "name": "stdout",
          "text": [
            "Train Loss: 0.5023, Train Acc: 0.8274\n",
            "Val Loss: 1.1973, Val Acc: 0.6452\n",
            "Epoch 23/25\n"
          ]
        },
        {
          "output_type": "stream",
          "name": "stderr",
          "text": []
        },
        {
          "output_type": "stream",
          "name": "stdout",
          "text": [
            "Train Loss: 0.4993, Train Acc: 0.8301\n",
            "Val Loss: 1.0290, Val Acc: 0.6630\n",
            "Epoch 24/25\n"
          ]
        },
        {
          "output_type": "stream",
          "name": "stderr",
          "text": []
        },
        {
          "output_type": "stream",
          "name": "stdout",
          "text": [
            "Train Loss: 0.5089, Train Acc: 0.8271\n",
            "Val Loss: 0.9131, Val Acc: 0.6952\n",
            "Epoch 25/25\n"
          ]
        },
        {
          "output_type": "stream",
          "name": "stderr",
          "text": []
        },
        {
          "output_type": "stream",
          "name": "stdout",
          "text": [
            "Train Loss: 0.4889, Train Acc: 0.8316\n",
            "Val Loss: 0.7010, Val Acc: 0.7638\n"
          ]
        },
        {
          "output_type": "stream",
          "name": "stderr",
          "text": []
        },
        {
          "output_type": "stream",
          "name": "stdout",
          "text": [
            "\n",
            "--- Training with 100% of CIFAR-10 ---\n",
            "Epoch 1/25\n"
          ]
        },
        {
          "output_type": "stream",
          "name": "stderr",
          "text": []
        },
        {
          "output_type": "stream",
          "name": "stdout",
          "text": [
            "Train Loss: 1.9678, Train Acc: 0.2980\n",
            "Val Loss: 1.6519, Val Acc: 0.3916\n",
            "Epoch 2/25\n"
          ]
        },
        {
          "output_type": "stream",
          "name": "stderr",
          "text": []
        },
        {
          "output_type": "stream",
          "name": "stdout",
          "text": [
            "Train Loss: 1.3713, Train Acc: 0.4982\n",
            "Val Loss: 1.2750, Val Acc: 0.5536\n",
            "Epoch 3/25\n"
          ]
        },
        {
          "output_type": "stream",
          "name": "stderr",
          "text": []
        },
        {
          "output_type": "stream",
          "name": "stdout",
          "text": [
            "Train Loss: 1.0216, Train Acc: 0.6358\n",
            "Val Loss: 0.8966, Val Acc: 0.6778\n",
            "Epoch 4/25\n"
          ]
        },
        {
          "output_type": "stream",
          "name": "stderr",
          "text": []
        },
        {
          "output_type": "stream",
          "name": "stdout",
          "text": [
            "Train Loss: 0.7865, Train Acc: 0.7267\n",
            "Val Loss: 0.9245, Val Acc: 0.6954\n",
            "Epoch 5/25\n"
          ]
        },
        {
          "output_type": "stream",
          "name": "stderr",
          "text": []
        },
        {
          "output_type": "stream",
          "name": "stdout",
          "text": [
            "Train Loss: 0.6592, Train Acc: 0.7711\n",
            "Val Loss: 0.6720, Val Acc: 0.7624\n",
            "Epoch 6/25\n"
          ]
        },
        {
          "output_type": "stream",
          "name": "stderr",
          "text": []
        },
        {
          "output_type": "stream",
          "name": "stdout",
          "text": [
            "Train Loss: 0.5774, Train Acc: 0.8020\n",
            "Val Loss: 0.6522, Val Acc: 0.7736\n",
            "Epoch 7/25\n"
          ]
        },
        {
          "output_type": "stream",
          "name": "stderr",
          "text": []
        },
        {
          "output_type": "stream",
          "name": "stdout",
          "text": [
            "Train Loss: 0.5334, Train Acc: 0.8180\n",
            "Val Loss: 0.5786, Val Acc: 0.8048\n",
            "Epoch 8/25\n"
          ]
        },
        {
          "output_type": "stream",
          "name": "stderr",
          "text": []
        },
        {
          "output_type": "stream",
          "name": "stdout",
          "text": [
            "Train Loss: 0.5038, Train Acc: 0.8279\n",
            "Val Loss: 0.5270, Val Acc: 0.8146\n",
            "Epoch 9/25\n"
          ]
        },
        {
          "output_type": "stream",
          "name": "stderr",
          "text": []
        },
        {
          "output_type": "stream",
          "name": "stdout",
          "text": [
            "Train Loss: 0.4822, Train Acc: 0.8342\n",
            "Val Loss: 0.6185, Val Acc: 0.7868\n",
            "Epoch 10/25\n"
          ]
        },
        {
          "output_type": "stream",
          "name": "stderr",
          "text": []
        },
        {
          "output_type": "stream",
          "name": "stdout",
          "text": [
            "Train Loss: 0.4558, Train Acc: 0.8437\n",
            "Val Loss: 0.6301, Val Acc: 0.7802\n",
            "Epoch 11/25\n"
          ]
        },
        {
          "output_type": "stream",
          "name": "stderr",
          "text": []
        },
        {
          "output_type": "stream",
          "name": "stdout",
          "text": [
            "Train Loss: 0.4520, Train Acc: 0.8447\n",
            "Val Loss: 0.4835, Val Acc: 0.8324\n",
            "Epoch 12/25\n"
          ]
        },
        {
          "output_type": "stream",
          "name": "stderr",
          "text": []
        },
        {
          "output_type": "stream",
          "name": "stdout",
          "text": [
            "Train Loss: 0.4319, Train Acc: 0.8506\n",
            "Val Loss: 0.5903, Val Acc: 0.7928\n",
            "Epoch 13/25\n"
          ]
        },
        {
          "output_type": "stream",
          "name": "stderr",
          "text": []
        },
        {
          "output_type": "stream",
          "name": "stdout",
          "text": [
            "Train Loss: 0.4196, Train Acc: 0.8559\n",
            "Val Loss: 0.7010, Val Acc: 0.7700\n",
            "Epoch 14/25\n"
          ]
        },
        {
          "output_type": "stream",
          "name": "stderr",
          "text": []
        },
        {
          "output_type": "stream",
          "name": "stdout",
          "text": [
            "Train Loss: 0.4069, Train Acc: 0.8605\n",
            "Val Loss: 0.4349, Val Acc: 0.8494\n",
            "Epoch 15/25\n"
          ]
        },
        {
          "output_type": "stream",
          "name": "stderr",
          "text": []
        },
        {
          "output_type": "stream",
          "name": "stdout",
          "text": [
            "Train Loss: 0.3982, Train Acc: 0.8655\n",
            "Val Loss: 0.4003, Val Acc: 0.8522\n",
            "Epoch 16/25\n"
          ]
        },
        {
          "output_type": "stream",
          "name": "stderr",
          "text": []
        },
        {
          "output_type": "stream",
          "name": "stdout",
          "text": [
            "Train Loss: 0.3818, Train Acc: 0.8704\n",
            "Val Loss: 0.5899, Val Acc: 0.7958\n",
            "Epoch 17/25\n"
          ]
        },
        {
          "output_type": "stream",
          "name": "stderr",
          "text": []
        },
        {
          "output_type": "stream",
          "name": "stdout",
          "text": [
            "Train Loss: 0.3810, Train Acc: 0.8685\n",
            "Val Loss: 0.5305, Val Acc: 0.8224\n",
            "Epoch 18/25\n"
          ]
        },
        {
          "output_type": "stream",
          "name": "stderr",
          "text": []
        },
        {
          "output_type": "stream",
          "name": "stdout",
          "text": [
            "Train Loss: 0.3739, Train Acc: 0.8709\n",
            "Val Loss: 0.5924, Val Acc: 0.8052\n",
            "Epoch 19/25\n"
          ]
        },
        {
          "output_type": "stream",
          "name": "stderr",
          "text": []
        },
        {
          "output_type": "stream",
          "name": "stdout",
          "text": [
            "Train Loss: 0.3661, Train Acc: 0.8745\n",
            "Val Loss: 0.4736, Val Acc: 0.8352\n",
            "Epoch 20/25\n"
          ]
        },
        {
          "output_type": "stream",
          "name": "stderr",
          "text": []
        },
        {
          "output_type": "stream",
          "name": "stdout",
          "text": [
            "Train Loss: 0.3607, Train Acc: 0.8766\n",
            "Val Loss: 0.4754, Val Acc: 0.8374\n",
            "Epoch 21/25\n"
          ]
        },
        {
          "output_type": "stream",
          "name": "stderr",
          "text": []
        },
        {
          "output_type": "stream",
          "name": "stdout",
          "text": [
            "Train Loss: 0.3594, Train Acc: 0.8772\n",
            "Val Loss: 0.3770, Val Acc: 0.8676\n",
            "Epoch 22/25\n"
          ]
        },
        {
          "output_type": "stream",
          "name": "stderr",
          "text": []
        },
        {
          "output_type": "stream",
          "name": "stdout",
          "text": [
            "Train Loss: 0.3497, Train Acc: 0.8809\n",
            "Val Loss: 0.6357, Val Acc: 0.7950\n",
            "Epoch 23/25\n"
          ]
        },
        {
          "output_type": "stream",
          "name": "stderr",
          "text": []
        },
        {
          "output_type": "stream",
          "name": "stdout",
          "text": [
            "Train Loss: 0.3519, Train Acc: 0.8796\n",
            "Val Loss: 0.4528, Val Acc: 0.8468\n",
            "Epoch 24/25\n"
          ]
        },
        {
          "output_type": "stream",
          "name": "stderr",
          "text": []
        },
        {
          "output_type": "stream",
          "name": "stdout",
          "text": [
            "Train Loss: 0.3452, Train Acc: 0.8823\n",
            "Val Loss: 0.4192, Val Acc: 0.8530\n",
            "Epoch 25/25\n"
          ]
        },
        {
          "output_type": "stream",
          "name": "stderr",
          "text": []
        },
        {
          "output_type": "stream",
          "name": "stdout",
          "text": [
            "Train Loss: 0.3381, Train Acc: 0.8841\n",
            "Val Loss: 0.4973, Val Acc: 0.8342\n"
          ]
        },
        {
          "output_type": "stream",
          "name": "stderr",
          "text": []
        },
        {
          "output_type": "stream",
          "name": "stdout",
          "text": [
            "Epoch 1/25\n"
          ]
        },
        {
          "output_type": "stream",
          "name": "stderr",
          "text": []
        },
        {
          "output_type": "stream",
          "name": "stdout",
          "text": [
            "Train Loss: 1.6910, Train Acc: 0.3659\n",
            "Val Loss: 1.7290, Val Acc: 0.4144\n",
            "Epoch 2/25\n"
          ]
        },
        {
          "output_type": "stream",
          "name": "stderr",
          "text": []
        },
        {
          "output_type": "stream",
          "name": "stdout",
          "text": [
            "Train Loss: 1.2648, Train Acc: 0.5398\n",
            "Val Loss: 1.1878, Val Acc: 0.5758\n",
            "Epoch 3/25\n"
          ]
        },
        {
          "output_type": "stream",
          "name": "stderr",
          "text": []
        },
        {
          "output_type": "stream",
          "name": "stdout",
          "text": [
            "Train Loss: 1.0189, Train Acc: 0.6369\n",
            "Val Loss: 0.9913, Val Acc: 0.6532\n",
            "Epoch 4/25\n"
          ]
        },
        {
          "output_type": "stream",
          "name": "stderr",
          "text": []
        },
        {
          "output_type": "stream",
          "name": "stdout",
          "text": [
            "Train Loss: 0.8614, Train Acc: 0.6990\n",
            "Val Loss: 0.9363, Val Acc: 0.6800\n",
            "Epoch 5/25\n"
          ]
        },
        {
          "output_type": "stream",
          "name": "stderr",
          "text": []
        },
        {
          "output_type": "stream",
          "name": "stdout",
          "text": [
            "Train Loss: 0.7571, Train Acc: 0.7379\n",
            "Val Loss: 1.0385, Val Acc: 0.6332\n",
            "Epoch 6/25\n"
          ]
        },
        {
          "output_type": "stream",
          "name": "stderr",
          "text": []
        },
        {
          "output_type": "stream",
          "name": "stdout",
          "text": [
            "Train Loss: 0.6926, Train Acc: 0.7630\n",
            "Val Loss: 1.2882, Val Acc: 0.6102\n",
            "Epoch 7/25\n"
          ]
        },
        {
          "output_type": "stream",
          "name": "stderr",
          "text": []
        },
        {
          "output_type": "stream",
          "name": "stdout",
          "text": [
            "Train Loss: 0.6500, Train Acc: 0.7768\n",
            "Val Loss: 1.0162, Val Acc: 0.6844\n",
            "Epoch 8/25\n"
          ]
        },
        {
          "output_type": "stream",
          "name": "stderr",
          "text": []
        },
        {
          "output_type": "stream",
          "name": "stdout",
          "text": [
            "Train Loss: 0.6210, Train Acc: 0.7885\n",
            "Val Loss: 1.0197, Val Acc: 0.6638\n",
            "Epoch 9/25\n"
          ]
        },
        {
          "output_type": "stream",
          "name": "stderr",
          "text": []
        },
        {
          "output_type": "stream",
          "name": "stdout",
          "text": [
            "Train Loss: 0.5949, Train Acc: 0.7962\n",
            "Val Loss: 0.7889, Val Acc: 0.7340\n",
            "Epoch 10/25\n"
          ]
        },
        {
          "output_type": "stream",
          "name": "stderr",
          "text": []
        },
        {
          "output_type": "stream",
          "name": "stdout",
          "text": [
            "Train Loss: 0.5747, Train Acc: 0.8040\n",
            "Val Loss: 0.7391, Val Acc: 0.7486\n",
            "Epoch 11/25\n"
          ]
        },
        {
          "output_type": "stream",
          "name": "stderr",
          "text": []
        },
        {
          "output_type": "stream",
          "name": "stdout",
          "text": [
            "Train Loss: 0.5582, Train Acc: 0.8100\n",
            "Val Loss: 0.8396, Val Acc: 0.7184\n",
            "Epoch 12/25\n"
          ]
        },
        {
          "output_type": "stream",
          "name": "stderr",
          "text": []
        },
        {
          "output_type": "stream",
          "name": "stdout",
          "text": [
            "Train Loss: 0.5420, Train Acc: 0.8159\n",
            "Val Loss: 0.7268, Val Acc: 0.7646\n",
            "Epoch 13/25\n"
          ]
        },
        {
          "output_type": "stream",
          "name": "stderr",
          "text": []
        },
        {
          "output_type": "stream",
          "name": "stdout",
          "text": [
            "Train Loss: 0.5353, Train Acc: 0.8187\n",
            "Val Loss: 0.6542, Val Acc: 0.7776\n",
            "Epoch 14/25\n"
          ]
        },
        {
          "output_type": "stream",
          "name": "stderr",
          "text": []
        },
        {
          "output_type": "stream",
          "name": "stdout",
          "text": [
            "Train Loss: 0.5247, Train Acc: 0.8223\n",
            "Val Loss: 0.8035, Val Acc: 0.7486\n",
            "Epoch 15/25\n"
          ]
        },
        {
          "output_type": "stream",
          "name": "stderr",
          "text": []
        },
        {
          "output_type": "stream",
          "name": "stdout",
          "text": [
            "Train Loss: 0.5148, Train Acc: 0.8257\n",
            "Val Loss: 0.5794, Val Acc: 0.8080\n",
            "Epoch 16/25\n"
          ]
        },
        {
          "output_type": "stream",
          "name": "stderr",
          "text": []
        },
        {
          "output_type": "stream",
          "name": "stdout",
          "text": [
            "Train Loss: 0.5028, Train Acc: 0.8300\n",
            "Val Loss: 0.6743, Val Acc: 0.7710\n",
            "Epoch 17/25\n"
          ]
        },
        {
          "output_type": "stream",
          "name": "stderr",
          "text": []
        },
        {
          "output_type": "stream",
          "name": "stdout",
          "text": [
            "Train Loss: 0.5014, Train Acc: 0.8289\n",
            "Val Loss: 0.5964, Val Acc: 0.8048\n",
            "Epoch 18/25\n"
          ]
        },
        {
          "output_type": "stream",
          "name": "stderr",
          "text": []
        },
        {
          "output_type": "stream",
          "name": "stdout",
          "text": [
            "Train Loss: 0.4863, Train Acc: 0.8347\n",
            "Val Loss: 1.3056, Val Acc: 0.6386\n",
            "Epoch 19/25\n"
          ]
        },
        {
          "output_type": "stream",
          "name": "stderr",
          "text": []
        },
        {
          "output_type": "stream",
          "name": "stdout",
          "text": [
            "Train Loss: 0.4800, Train Acc: 0.8381\n",
            "Val Loss: 0.6950, Val Acc: 0.7644\n",
            "Epoch 20/25\n"
          ]
        },
        {
          "output_type": "stream",
          "name": "stderr",
          "text": []
        },
        {
          "output_type": "stream",
          "name": "stdout",
          "text": [
            "Train Loss: 0.4787, Train Acc: 0.8375\n",
            "Val Loss: 0.7060, Val Acc: 0.7532\n",
            "Epoch 21/25\n"
          ]
        },
        {
          "output_type": "stream",
          "name": "stderr",
          "text": []
        },
        {
          "output_type": "stream",
          "name": "stdout",
          "text": [
            "Train Loss: 0.4714, Train Acc: 0.8404\n",
            "Val Loss: 0.8954, Val Acc: 0.6994\n",
            "Epoch 22/25\n"
          ]
        },
        {
          "output_type": "stream",
          "name": "stderr",
          "text": []
        },
        {
          "output_type": "stream",
          "name": "stdout",
          "text": [
            "Train Loss: 0.4576, Train Acc: 0.8454\n",
            "Val Loss: 0.9129, Val Acc: 0.7072\n",
            "Epoch 23/25\n"
          ]
        },
        {
          "output_type": "stream",
          "name": "stderr",
          "text": []
        },
        {
          "output_type": "stream",
          "name": "stdout",
          "text": [
            "Train Loss: 0.4612, Train Acc: 0.8424\n",
            "Val Loss: 0.6453, Val Acc: 0.7898\n",
            "Epoch 24/25\n"
          ]
        },
        {
          "output_type": "stream",
          "name": "stderr",
          "text": []
        },
        {
          "output_type": "stream",
          "name": "stdout",
          "text": [
            "Train Loss: 0.4562, Train Acc: 0.8446\n",
            "Val Loss: 0.5610, Val Acc: 0.8034\n",
            "Epoch 25/25\n"
          ]
        },
        {
          "output_type": "stream",
          "name": "stderr",
          "text": []
        },
        {
          "output_type": "stream",
          "name": "stdout",
          "text": [
            "Train Loss: 0.4488, Train Acc: 0.8480\n",
            "Val Loss: 0.6157, Val Acc: 0.7998\n"
          ]
        },
        {
          "output_type": "stream",
          "name": "stderr",
          "text": []
        },
        {
          "output_type": "display_data",
          "data": {
            "text/plain": [
              "<Figure size 800x600 with 1 Axes>"
            ],
            "image/png": "[encoded data removed]"
          },
          "metadata": {}
        }
      ]
    },
    {
      "cell_type": "code",
      "source": [],
      "metadata": {
        "id": "-J1lrfz30fOn"
      },
      "execution_count": null,
      "outputs": []
    }
  ]
}